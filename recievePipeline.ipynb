{
 "cells": [
  {
   "cell_type": "code",
   "execution_count": null,
   "metadata": {
    "collapsed": true
   },
   "outputs": [],
   "source": []
  },
  {
   "cell_type": "code",
   "execution_count": 1,
   "metadata": {
    "code_folding": [],
    "collapsed": false
   },
   "outputs": [
    {
     "name": "stdout",
     "output_type": "stream",
     "text": [
      "Using matplotlib backend: Qt4Agg\n",
      "Populating the interactive namespace from numpy and matplotlib\n"
     ]
    }
   ],
   "source": [
    "%pylab\n",
    "from __future__ import division\n",
    "if True:\n",
    "  # Import functions and libraries\n",
    "  import numpy as np\n",
    "  import matplotlib.pyplot as plt\n",
    "  import pyaudio\n",
    "  import Queue\n",
    "   \n",
    "  import struct\n",
    "  import gzip\n",
    "  import threading,time\n",
    "  import sys\n",
    "\n",
    "  from numpy import pi\n",
    "  from numpy import sin\n",
    "  from numpy import zeros\n",
    "  from numpy import r_\n",
    "  from numpy import ones\n",
    "  from scipy import signal\n",
    "  from scipy import integrate\n",
    "  from scipy import signal, ndimage, misc, fftpack\n",
    "\n",
    "  import threading,time\n",
    "  import multiprocessing\n",
    "\n",
    "  from numpy import mean\n",
    "  from numpy import power\n",
    "  from numpy.fft import fft\n",
    "  from numpy.fft import fftshift\n",
    "  from numpy.fft import ifft\n",
    "  from numpy.fft import ifftshift\n",
    "  from  scipy.io.wavfile import read as wavread\n",
    "  import serial\n",
    "  import ax25\n",
    "  from fractions import gcd\n",
    "  import bitarray\n",
    "  import Transmission\n",
    "%matplotlib inline\n"
   ]
  },
  {
   "cell_type": "code",
   "execution_count": 2,
   "metadata": {
    "collapsed": true
   },
   "outputs": [],
   "source": [
    "IMG_DIR = 'Images/'"
   ]
  },
  {
   "cell_type": "code",
   "execution_count": 3,
   "metadata": {
    "code_folding": [
     1,
     6,
     21,
     43,
     79
    ],
    "collapsed": true
   },
   "outputs": [],
   "source": [
    "# function to compute least common multipler\n",
    "def lcm(numbers):\n",
    "    return reduce(lambda x, y: (x*y)/gcd(x,y), numbers, 1)\n",
    "\n",
    "\n",
    "# function to compute average power spectrum\n",
    "def avgPS( x, N=256, fs=1):\n",
    "    M = floor(len(x)/N)\n",
    "    x_ = reshape(x[:M*N],(M,N)) * np.hamming(N)[None,:]\n",
    "    X = np.fft.fftshift(np.fft.fft(x_,axis=1),axes=1)\n",
    "    return r_[-N/2.0:N/2.0]/N*fs, mean(abs(X)**2,axis=0)\n",
    "\n",
    "\n",
    "# Plot an image of the spectrogram y, with the axis labeled with time tl,\n",
    "# and frequency fl\n",
    "#\n",
    "# t_range -- time axis label, nt samples\n",
    "# f_range -- frequency axis label, nf samples\n",
    "# y -- spectrogram, nf by nt array\n",
    "# dbf -- Dynamic range of the spect\n",
    "\n",
    "def sg_plot( t_range, f_range, y, dbf = 60, fig = None) :\n",
    "    eps = 10.0**(-dbf/20.0)  # minimum signal\n",
    "    \n",
    "    # find maximum\n",
    "    y_max = abs(y).max()\n",
    "    \n",
    "    # compute 20*log magnitude, scaled to the max\n",
    "    y_log = 20.0 * np.log10( (abs( y ) / y_max)*(1-eps) + eps )\n",
    "    \n",
    "    # rescale image intensity to 256\n",
    "    img = 256*(y_log + dbf)/dbf - 1\n",
    "    \n",
    "    fig=figure(figsize=(16,6))\n",
    "    \n",
    "    plt.imshow( np.flipud( 64.0*(y_log + dbf)/dbf ), extent= t_range  + f_range ,cmap=plt.cm.gray, aspect='auto')\n",
    "    plt.xlabel('Time, s')\n",
    "    plt.ylabel('Frequency, Hz')\n",
    "    plt.tight_layout()\n",
    "    \n",
    "    return fig\n",
    "\n",
    "\n",
    "def myspectrogram_hann_ovlp(x, m, fs, fc,dbf = 60):\n",
    "    # Plot the spectrogram of x.\n",
    "    # First take the original signal x and split it into blocks of length m\n",
    "    # This corresponds to using a rectangular window %\n",
    "    \n",
    "    \n",
    "    isreal_bool = isreal(x).all()\n",
    "    \n",
    "    # pad x up to a multiple of m \n",
    "    lx = len(x);\n",
    "    nt = (lx + m - 1) // m\n",
    "    x = append(x,zeros(-lx+nt*m))\n",
    "    x = x.reshape((m/2,nt*2), order='F')\n",
    "    x = concatenate((x,x),axis=0)\n",
    "    x = x.reshape((m*nt*2,1),order='F')\n",
    "    x = x[r_[m//2:len(x),ones(m//2)*(len(x)-1)].astype(int)].reshape((m,nt*2),order='F')\n",
    "    \n",
    "    \n",
    "    xmw = x * hanning(m)[:,None];\n",
    "    \n",
    "    \n",
    "    # frequency index\n",
    "    t_range = [0.0, lx / fs]\n",
    "    \n",
    "    if isreal_bool:\n",
    "        f_range = [ fc, fs / 2.0 + fc]\n",
    "        xmf = np.fft.fft(xmw,len(xmw),axis=0)\n",
    "        sg_plot(t_range, f_range, xmf[0:m/2,:],dbf=dbf)\n",
    "        print 1\n",
    "    else:\n",
    "        f_range = [-fs / 2.0 + fc, fs / 2.0 + fc]\n",
    "        xmf = np.fft.fftshift( np.fft.fft( xmw ,len(xmw),axis=0), axes=0 )\n",
    "        sg_plot(t_range, f_range, xmf,dbf = dbf)\n",
    "    \n",
    "    return t_range, f_range, xmf\n",
    "\n",
    "def play_audio( Q,ctrlQ ,p, fs , dev, ser=\"\", keydelay=0.1, chunk=1024):\n",
    "    # play_audio plays audio with sampling rate = fs\n",
    "    # Q - A queue object from which to play\n",
    "    # ctrlQ - A queue object for ending the thread\n",
    "    # p   - pyAudio object\n",
    "    # fs  - sampling rate\n",
    "    # dev - device number\n",
    "    # ser - pyserial device to key the radio\n",
    "    # keydelay - delay after keying the radio\n",
    "    #\n",
    "    #\n",
    "    # There are two ways to end the thread: \n",
    "    #    1 - send \"EOT\" through  the control queue. This is used to terminate the thread on demand\n",
    "    #    2 - send \"EOT\" through the data queue. This is used to terminate the thread when data is done. \n",
    "    #\n",
    "    # You can also key the radio either through the data queu and the control queue\n",
    "    \n",
    "    \n",
    "    # open output stream\n",
    "    ostream = p.open(format=pyaudio.paFloat32, channels=1, rate=int(fs),output=True,output_device_index=dev)\n",
    "    # play audio\n",
    "    while (1):\n",
    "        if not ctrlQ.empty():\n",
    "            \n",
    "            # control queue \n",
    "            ctrlmd = ctrlQ.get()\n",
    "            if ctrlmd is \"EOT\"  :\n",
    "                    ostream.stop_stream()\n",
    "                    ostream.close()\n",
    "                    print(\"Closed  play thread\")\n",
    "                    return;\n",
    "            elif (ctrlmd is \"KEYOFF\"  and ser!=\"\"):\n",
    "                ser.setDTR(0)\n",
    "                #print(\"keyoff\\n\")\n",
    "            elif (ctrlmd is \"KEYON\" and ser!=\"\"):\n",
    "                ser.setDTR(1)  # key PTT\n",
    "                #print(\"keyon\\n\")\n",
    "                time.sleep(keydelay) # wait 200ms (default) to let the power amp to ramp up\n",
    "                \n",
    "        \n",
    "        data = Q.get()\n",
    "        \n",
    "        if (data is \"EOT\") :\n",
    "            ostream.stop_stream()\n",
    "            ostream.close()\n",
    "            print(\"Closed  play thread\")\n",
    "            return;\n",
    "        elif (data is \"KEYOFF\"  and ser!=\"\"):\n",
    "            ser.setDTR(0)\n",
    "            #print(\"keyoff\\n\")\n",
    "        elif (data is \"KEYON\" and ser!=\"\"):\n",
    "            ser.setDTR(1)  # key PTT\n",
    "            #print(\"keyon\\n\")\n",
    "            time.sleep(keydelay) # wait 200ms (default) to let the power amp to ramp up\n",
    "            \n",
    "        else:\n",
    "            try:\n",
    "                ostream.write( data.astype(np.float32).tostring() )\n",
    "            except:\n",
    "                print(\"Exception\")\n",
    "                break\n",
    "            \n",
    "def record_audio( queue,ctrlQ, p, fs ,dev,chunk=512):\n",
    "    # record_audio records audio with sampling rate = fs\n",
    "    # queue - output data queue\n",
    "    # p     - pyAudio object\n",
    "    # fs    - sampling rate\n",
    "    # dev   - device number \n",
    "    # chunk - chunks of samples at a time default 1024\n",
    "    #\n",
    "    # Example:\n",
    "    # fs = 44100\n",
    "    # Q = Queue.queue()\n",
    "    # p = pyaudio.PyAudio() #instantiate PyAudio\n",
    "    # record_audio( Q, p, fs, 1) # \n",
    "    # p.terminate() # terminate pyAudio\n",
    "    \n",
    "   \n",
    "    istream = p.open(format=pyaudio.paFloat32, channels=1, rate=int(fs),input=True,input_device_index=dev,frames_per_buffer=chunk)\n",
    "\n",
    "    # record audio in chunks and append to frames\n",
    "    frames = [];\n",
    "    while (1):\n",
    "        if not ctrlQ.empty():\n",
    "            ctrlmd = ctrlQ.get()          \n",
    "            if ctrlmd is \"EOT\"  :\n",
    "                istream.stop_stream()\n",
    "                istream.close()\n",
    "                print(\"Closed  record thread\")\n",
    "                return;\n",
    "        try:  # when the pyaudio object is distroyed stops\n",
    "            data_str = istream.read(chunk, exception_on_overflow = False) # read a chunk of data\n",
    "        except NameError:\n",
    "            print \"errorError\"\n",
    "            break\n",
    "        data_flt = np.fromstring( data_str, 'float32' ) # convert string to float\n",
    "        queue.put( data_flt ) # append to list\n",
    "        \n",
    "def text2Morse(text,fc,fs,dt):\n",
    "    CODE = {'A': '.-',     'B': '-...',   'C': '-.-.', \n",
    "        'D': '-..',    'E': '.',      'F': '..-.',\n",
    "        'G': '--.',    'H': '....',   'I': '..',\n",
    "        'J': '.---',   'K': '-.-',    'L': '.-..',\n",
    "        'M': '--',     'N': '-.',     'O': '---',\n",
    "        'P': '.--.',   'Q': '--.-',   'R': '.-.',\n",
    "     \t'S': '...',    'T': '-',      'U': '..-',\n",
    "        'V': '...-',   'W': '.--',    'X': '-..-',\n",
    "        'Y': '-.--',   'Z': '--..',\n",
    "        \n",
    "        '0': '-----',  '1': '.----',  '2': '..---',\n",
    "        '3': '...--',  '4': '....-',  '5': '.....',\n",
    "        '6': '-....',  '7': '--...',  '8': '---..',\n",
    "        '9': '----.',\n",
    "\n",
    "        ' ': ' ', \"'\": '.----.', '(': '-.--.-',  ')': '-.--.-',\n",
    "        ',': '--..--', '-': '-....-', '.': '.-.-.-',\n",
    "        '/': '-..-.',   ':': '---...', ';': '-.-.-.',\n",
    "        '?': '..--..', '_': '..--.-'\n",
    "        }\n",
    "    \n",
    "    Ndot= 1.0*fs*dt\n",
    "    Ndah = 3*Ndot\n",
    "    \n",
    "    sdot = sin(2*pi*fc*r_[0.0:Ndot]/fs)\n",
    "    sdah = sin(2*pi*fc*r_[0.0:Ndah]/fs)\n",
    "    \n",
    "    # convert to dit dah\n",
    "    mrs = \"\"\n",
    "    for char in text:\n",
    "        mrs = mrs + CODE[char.upper()] + \"*\"\n",
    "    \n",
    "    sig = zeros(1)\n",
    "    for char in mrs:\n",
    "        if char == \" \":\n",
    "            sig = concatenate((sig,zeros(Ndot*7)))\n",
    "        if char == \"*\":\n",
    "            sig = concatenate((sig,zeros(Ndot*3)))\n",
    "        if char == \".\":\n",
    "            sig = concatenate((sig,sdot,zeros(Ndot)))\n",
    "        if char == \"-\":\n",
    "            sig = concatenate((sig,sdah,zeros(Ndot)))\n",
    "    return sig\n",
    "            \n",
    "    \n",
    "            \n",
    "\n",
    "def printDevNumbers(p):\n",
    "    N = p.get_device_count()\n",
    "    print N, 33\n",
    "    for n in range(0,N):\n",
    "        name = p.get_device_info_by_index(n).get('name')\n",
    "        print n, name\n",
    "                \n"
   ]
  },
  {
   "cell_type": "code",
   "execution_count": 4,
   "metadata": {
    "code_folding": [
     66,
     79
    ],
    "collapsed": true
   },
   "outputs": [],
   "source": [
    "def findPackets(bits):\n",
    "        # function take a bitarray and looks for AX.25 packets in it. \n",
    "        # It implements a 2-state machine of searching for flag or collecting packets\n",
    "                \n",
    "        flg = bitarray.bitarray([0,1,1,1,1,1,1,0])\n",
    "        packets = []\n",
    "        n = 0\n",
    "        pktcounter = 0\n",
    "        packet = []\n",
    "        state = 'search'\n",
    "        \n",
    "        # Loop over bits\n",
    "        while (n < len(bits)-7) :\n",
    "            \n",
    "            # default state is searching for packets\n",
    "            if state is 'search':\n",
    "                \n",
    "                # look for 1111110, because can't be sure if the first zero is decoded\n",
    "                # well if the packet is not padded.\n",
    "                if bits[n:n+7] == flg[1:]:\n",
    "                    \n",
    "                    # flag detected, so switch state to collecting bits in a packet\n",
    "                    # start by copying the flag to the packet\n",
    "                    # start counter to count the number of bits in the packet\n",
    "                    state = 'pkt'\n",
    "                    packet=flg.copy()\n",
    "                    pktcounter = 8                    \n",
    "                    # Advance to the end of the flag\n",
    "                    n = n + 7\n",
    "                else:\n",
    "                    # flag was not found, advance by 1\n",
    "                    n = n + 1            \n",
    "        \n",
    "            # state is to collect packet data. \n",
    "            elif state is 'pkt':\n",
    "                \n",
    "                # Check if we reached a flag by comparing with 0111111\n",
    "                # 6 times ones is not allowed in a packet, hence it must be a flag (if there's no error)\n",
    "                if bits[n:n+7] == flg[:7]:\n",
    "                    # Flag detected, check if packet is longer than some minimum\n",
    "                    if pktcounter > 200:\n",
    "                        # End of packet reached! append packet to list and switch to searching state\n",
    "                        # We don't advance pointer since this our packet might have been\n",
    "                        # flase detection and this flag could be the beginning of a real packet\n",
    "                        state = 'search'\n",
    "                        packet.extend(flg)\n",
    "                        packets.append(packet.copy())\n",
    "                    else:\n",
    "                        # packet is too short! false alarm. Keep searching \n",
    "                        # We don't advance pointer since this this flag could be the beginning of a real packet\n",
    "                        state = 'search'\n",
    "                # No flag, so collect the bit and add to the packet\n",
    "                else:\n",
    "                    # check if packet is too long... if so, must be false alarm\n",
    "                    if pktcounter < 2680:\n",
    "                        # Not a false alarm, collect the bit and advance pointer                        \n",
    "                        packet.append(bits[n])\n",
    "                        pktcounter = pktcounter + 1\n",
    "                        n = n + 1\n",
    "                    else:  \n",
    "                        #runaway packet, switch state to searching, and advance pointer\n",
    "                        state = 'search'\n",
    "                        n = n + 1\n",
    "        return packets\n",
    "\n",
    "# function to generate a checksum for validating packets\n",
    "def genfcs(bits):\n",
    "    # Generates a checksum from packet bits\n",
    "    fcs = ax25.FCS()\n",
    "    for bit in bits:\n",
    "        fcs.update_bit(bit)\n",
    "    \n",
    "    digest = bitarray.bitarray(endian=\"little\")\n",
    "    digest.frombytes(fcs.digest())\n",
    "\n",
    "    return digest\n",
    "\n",
    "\n",
    "# function to parse packet bits to information\n",
    "def decodeAX25(bits):\n",
    "    ax = ax25.AX25()\n",
    "    ax.info = \"bad packet\"\n",
    "    \n",
    "    \n",
    "    bitsu = ax25.bit_unstuff(bits[8:-8])\n",
    "    \n",
    "    if (genfcs(bitsu[:-16]).tobytes() == bitsu[-16:].tobytes()) == False:\n",
    "        print(\"failed fcs\")\n",
    "        #return ax\n",
    "    bytes = bitsu.tobytes()\n",
    "    ax.destination = ax.callsign_decode(bitsu[:56])\n",
    "    source = ax.callsign_decode(bitsu[56:112])\n",
    "    if source[-1].isdigit() and source[-1]!=\"0\":\n",
    "        ax.source = b\"\".join((source[:-1],'-',source[-1]))\n",
    "    else:\n",
    "        ax.source = source[:-1]\n",
    "    \n",
    "    digilen=0    \n",
    "    \n",
    "    if bytes[14]=='\\x03' and bytes[15]=='\\xf0':\n",
    "        digilen = 0\n",
    "    else:\n",
    "        for n in range(14,len(bytes)-1):\n",
    "            if ord(bytes[n]) & 1:\n",
    "                digilen = (n-14)+1\n",
    "                break\n",
    "\n",
    "    #    if digilen > 56:\n",
    "    #        return ax\n",
    "    ax.digipeaters =  ax.callsign_decode(bitsu[112:112+digilen*8])\n",
    "    ax.info = bitsu[112+digilen*8+16:-16].tobytes()\n",
    "    \n",
    "    return ax"
   ]
  },
  {
   "cell_type": "code",
   "execution_count": 5,
   "metadata": {
    "code_folding": [
     0,
     48,
     101,
     121,
     143,
     161
    ],
    "collapsed": true
   },
   "outputs": [],
   "source": [
    "def mafsk1200(bits, fs = 48000, baud = 1200, fd=775, fc=2250):\n",
    "    # the function will take a bitarray of bits and will output an AFSK1200 modulated signal of them, sampled at fs\n",
    "    #  Inputs:\n",
    "    #         bits  - bitarray of bits\n",
    "    #         fs    - sampling rate\n",
    "    # Outputs:\n",
    "    #         sig    -  returns afsk1200 modulated signal\n",
    "    \n",
    "    # your code below:\n",
    "    ck = lcm((baud, fs))\n",
    "    factor = ck/fs\n",
    "    bitlen = int(ck//baud)\n",
    "    numbits =len(bits)\n",
    "    \n",
    "    arr = []\n",
    "    hold = ''\n",
    "    for x in bits:\n",
    "        if x:\n",
    "            hold += '1'\n",
    "        else:\n",
    "            hold += '0'\n",
    "        if len(hold) == 2:\n",
    "            if hold == '00':\n",
    "                arr += [-2]*bitlen\n",
    "            if hold == '01':\n",
    "                arr += [-1]*bitlen\n",
    "            if hold == '10':\n",
    "                arr += [1]*bitlen\n",
    "            if hold == '11':\n",
    "                arr += [2]*bitlen\n",
    "            hold = ''\n",
    "    bit2 = np.array(arr)\n",
    "    #bit2 = np.array(map(lambda x:[1]*bitlen if x else [-1]*bitlen, bits))\n",
    "    #bit2 = np.reshape(bit2, (1, bitlen*numbits))[0]\n",
    "    bit2.flatten()    #print len(m)\n",
    "    #print r\n",
    "    #return r\n",
    "    m = bit2#np.array(m)\n",
    "    t = r_[0:(numbits//baud+1)*ck]/ck\n",
    "    r = fd*integrate.cumtrapz(m, dx = 1/ck)\n",
    "    l = fc*t[:len(r)]\n",
    "    w = l-r\n",
    "    sig = np.cos(2*np.pi*w)\n",
    "    \n",
    "    sig = sig[::factor]\n",
    "    return sig\n",
    "                     \n",
    "\n",
    "def nc_mafsk1200Demod(sig, fs=48000.0, baud=1200, TBW=2.0, fc = 2250, fd = 775):\n",
    "    #  non-coherent demodulation of afsk1200\n",
    "    # function returns the NRZ (without rectifying it)\n",
    "    # \n",
    "    # sig  - signal\n",
    "    # baud - The bitrate. Default 1200\n",
    "    # fs   - sampling rate in Hz\n",
    "    # TBW  - TBW product of the filters\n",
    "    #\n",
    "    # Returns:\n",
    "    #     NRZ \n",
    "    \n",
    "    N = (int(fs/baud*TBW)//2)*2+1\n",
    "    f11 = fc - 2*fd\n",
    "    f10 = fc - fd\n",
    "    f01 = fc + fd\n",
    "    f00 = fc + 2*fd\n",
    "    \n",
    "    # your code here\n",
    "    taps = TBW*fs/1200-1\n",
    "    taps = N\n",
    "    filt = signal.firwin(taps, baud/4, window='hanning', nyq=fs/2)\n",
    "    #plt.plot(np.fft.fft(filt))\n",
    "    #plt.plot(filt)\n",
    "    #f1 = 1200\n",
    "    #f2 = 2200\n",
    "    t2 = (r_[0:fs]/fs)[:taps]\n",
    "    filt11 = filt* np.exp(t2*1j*f11*-2*np.pi)\n",
    "    filt10 = filt* np.exp(t2*1j*f10*-2*np.pi)\n",
    "    sig11 = signal.fftconvolve(sig, filt11, mode=\"same\")\n",
    "    sig10 = signal.fftconvolve(sig, filt10, mode=\"same\")\n",
    "    filt01 = filt* np.exp(t2*1j*f01*-2*np.pi)\n",
    "    filt00 = filt* np.exp(t2*1j*f00*-2*np.pi)\n",
    "    sig01 = signal.fftconvolve(sig, filt01, mode=\"same\")\n",
    "    sig00 = signal.fftconvolve(sig, filt00, mode=\"same\")\n",
    "    midsig = 0#(max(sig00)+min(sig00)+max(sig11)+min(sig11))/4\n",
    "    \n",
    "    sig11r = sig11 - midsig\n",
    "    sig10r = sig10 - midsig\n",
    "    sig01r = sig01 - midsig\n",
    "    sig00r = sig00 - midsig\n",
    "    \n",
    "    return sig11r, sig10r, sig01r, sig00r\n",
    "    \n",
    "    diff = np.abs(sig12k)-np.abs(sig22k)\n",
    "    return diff\n",
    "    opt = signal.firwin(taps, baud*1.2, window='hanning', nyq=fs/2)\n",
    "    ana = signal.fftconvolve(diff, opt, mode=\"same\")\n",
    "    #sign = np.sign(ana)\n",
    "\n",
    "    NRZ = ana\n",
    "    return NRZ\n",
    "\n",
    "def bits2mag(bits, bitlen = 1):\n",
    "    arr = []\n",
    "    hold = ''\n",
    "    for x in bits:\n",
    "        if x:\n",
    "            hold += '1'\n",
    "        else:\n",
    "            hold += '0'\n",
    "        if len(hold) == 2:\n",
    "            if hold == '00':\n",
    "                arr += [-2]*bitlen\n",
    "            if hold == '01':\n",
    "                arr += [-1]*bitlen\n",
    "            if hold == '10':\n",
    "                arr += [1]*bitlen\n",
    "            if hold == '11':\n",
    "                arr += [2]*bitlen\n",
    "            hold = ''\n",
    "    return arr\n",
    "\n",
    "def mafsk2barr(gg, centers=20,spacing=40,indii = None):\n",
    "    x = np.vstack((np.abs(gg[0]), np.abs(gg[1]), np.abs(gg[2]), np.abs(gg[3])))\n",
    "    x.shape\n",
    "    if indii:\n",
    "        o = np.argmax(x, axis=0)[indii]\n",
    "    else:\n",
    "        o = np.argmax(x,axis=0)[centers::spacing]\n",
    "    y = []#bitarray.bitarray()\n",
    "    for g in o:\n",
    "        if g == 0:\n",
    "            y.append(1)\n",
    "            y.append(1)\n",
    "        if g == 1:\n",
    "            y.append(1)\n",
    "            y.append(0)\n",
    "        if g == 2:\n",
    "            y.append(0)\n",
    "            y.append(1)\n",
    "        if g == 3:\n",
    "            y.append(0)\n",
    "            y.append(0)\n",
    "    return np.array(y)\n",
    "def mafsk2crossings(gg):\n",
    "    x = np.vstack((np.abs(gg[0]), np.abs(gg[1]), np.abs(gg[2]), np.abs(gg[3])))\n",
    "    #x.shape\n",
    "    o = np.argmax(x, axis=0)\n",
    "    #y = bitarray.bitarray()\n",
    "    last = None\n",
    "    zc = []\n",
    "    for i, g in enumerate(o):\n",
    "        if last != None:\n",
    "            if last != g:\n",
    "                zc.append(1)\n",
    "            else:\n",
    "                zc.append(0)\n",
    "        else:\n",
    "            zc.append(0)\n",
    "        last = g\n",
    "    return zc\n",
    "\n",
    "def mPLL(NRZa, a = 0.74 , fs = 48000, baud = 1200):\n",
    "    # \n",
    "    # function implements a simple phased lock loop for tyming recovery\n",
    "    #\n",
    "    # Inputs:\n",
    "    #          NRZa -   The crossings signal\n",
    "    #          a - nudge factor\n",
    "    #          fs - sampling rate (arbitrary)\n",
    "    #          baude  - the bit rate\n",
    "    #\n",
    "    # Outputs:\n",
    "    #          idx - array of indexes to sample at\n",
    "    #\n",
    "    \n",
    "    \n",
    "    # Your code here\n",
    "    idx = []\n",
    "    inc = np.int32(2**32/(fs/baud))\n",
    "    counter = np.int32(0)\n",
    "    last = None\n",
    "    for i, x in enumerate(NRZa):\n",
    "        if x: \n",
    "            counter = counter*a\n",
    "            counter = np.int32(counter)\n",
    "        counter2 = counter+inc\n",
    "        if counter2<counter:\n",
    "            idx.append(i)\n",
    "        last = x\n",
    "        counter = counter2\n",
    "    return idx"
   ]
  },
  {
   "cell_type": "code",
   "execution_count": 6,
   "metadata": {
    "code_folding": [
     89,
     134,
     175
    ],
    "collapsed": true
   },
   "outputs": [],
   "source": [
    "def afsk1200(bits, fs = 48000, baud = 1200, fd=500, fc=1700):\n",
    "    # the function will take a bitarray of bits and will output an AFSK1200 modulated signal of them, sampled at fs\n",
    "    #  Inputs:\n",
    "    #         bits  - bitarray of bits\n",
    "    #         fs    - sampling rate\n",
    "    # Outputs:\n",
    "    #         sig    -  returns afsk1200 modulated signal\n",
    "    \n",
    "    # your code below:\n",
    "    ck = lcm((baud, fs))\n",
    "    factor = ck/fs\n",
    "    bitlen = int(ck//baud)\n",
    "    #print bitlen\n",
    "    numbits =len(bits)\n",
    "    bit2 = np.array(map(lambda x:[1]*bitlen if x else [-1]*bitlen, bits))\n",
    "    #print bit2\n",
    "    bit2 = np.reshape(bit2, (1, bitlen*numbits))[0]\n",
    "    bit2.flatten()\n",
    "    #print bit2\n",
    "    #return bit2\n",
    "    #m = reduce(lambda x, y:x+y, bit2)\n",
    "    #print m\n",
    "    m = bit2#np.array(m)\n",
    "    t = r_[0:(numbits//baud+1)*ck]/ck\n",
    "    #print len(m)\n",
    "    #return m\n",
    "    #print len(t)\n",
    "    r = fd*integrate.cumtrapz(m, dx = 1/ck)\n",
    "    #print len(r)\n",
    "    #print len(m)\n",
    "    #print r\n",
    "    #return r\n",
    "    l = fc*t[:len(r)]\n",
    "    #print len(l)\n",
    "    w = l-r\n",
    "    #print r\n",
    "    #print l\n",
    "    #print w\n",
    "    #return (l, r, w)\n",
    "    sig = np.cos(2*np.pi*w)\n",
    "    \n",
    "    sig = sig[::factor]\n",
    "    #sig = signal.resample(sig, fs)\n",
    "    return sig\n",
    "                     \n",
    "\n",
    "def nc_afsk1200Demod(sig, fs=48000.0, TBW=2.0, f1= 1200, f2=2200, baud = 1200):\n",
    "    #  non-coherent demodulation of afsk1200\n",
    "    # function returns the NRZ (without rectifying it)\n",
    "    # \n",
    "    # sig  - signal\n",
    "    # baud - The bitrate. Default 1200\n",
    "    # fs   - sampling rate in Hz\n",
    "    # TBW  - TBW product of the filters\n",
    "    #\n",
    "    # Returns:\n",
    "    #     NRZ \n",
    "    \n",
    "    N = (int(fs/baud*TBW)//2)*2+1\n",
    "\n",
    "    \n",
    "    # your code here\n",
    "    taps = TBW*fs/1200-1\n",
    "    taps = N\n",
    "    filt = signal.firwin(taps, baud/4, window='hanning', nyq=fs/2)\n",
    "    #plt.plot(np.fft.fft(filt))\n",
    "    #plt.plot(filt)\n",
    "    #f1 = 1200\n",
    "    #f2 = 2200\n",
    "    t2 = (r_[0:fs]/fs)[:taps]\n",
    "    filt12k = filt* np.exp(t2*1j*f1*-2*np.pi)\n",
    "    filt22k = filt* np.exp(t2*1j*f2*-2*np.pi)\n",
    "    sig12k = signal.fftconvolve(sig, filt12k, mode=\"same\")\n",
    "    sig22k = signal.fftconvolve(sig, filt22k, mode=\"same\")\n",
    "    diff = np.abs(sig12k)-np.abs(sig22k)\n",
    "    return diff\n",
    "    opt = signal.firwin(taps, baud*1.2, window='hanning', nyq=fs/2)\n",
    "    ana = signal.fftconvolve(diff, opt, mode=\"same\")\n",
    "    #sign = np.sign(ana)\n",
    "\n",
    "    NRZ = ana\n",
    "    return NRZ\n",
    "\n",
    "\n",
    "\n",
    "\n",
    "\n",
    "\n",
    "\n",
    "def afskBaud(bits, fs = 48000, baud = 1200, fd = 500, fc = 1700):\n",
    "    # the function will take a bitarray of bits and will output an AFSK1200 modulated signal of them, sampled at fs\n",
    "    #  Inputs:\n",
    "    #         bits  - bitarray of bits\n",
    "    #         fs    - sampling rate\n",
    "    # Outputs:\n",
    "    #         sig    -  returns afsk1200 modulated signal\n",
    "    \n",
    "    # your code below:\n",
    "    ck = lcm((baud, fs))\n",
    "    factor = ck/fs\n",
    "    bitlen = int(ck//baud)\n",
    "    #print bitlen\n",
    "    numbits =len(bits)\n",
    "    bit2 = np.array(map(lambda x:[1]*bitlen if x else [-1]*bitlen, bits))\n",
    "    #print bit2\n",
    "    bit2 = np.reshape(bit2, (1, bitlen*numbits))[0]\n",
    "    bit2.flatten()\n",
    "    #print bit2\n",
    "    #return bit2\n",
    "    #m = reduce(lambda x, y:x+y, bit2)\n",
    "    #print m\n",
    "    m = bit2#np.array(m)\n",
    "    t = r_[0:(numbits//baud+1)*ck]/ck\n",
    "    #print len(m)\n",
    "    #return m\n",
    "    #print len(t)\n",
    "    r = fd*integrate.cumtrapz(m, dx = 1/ck)\n",
    "    #print len(r)\n",
    "    #print len(m)\n",
    "    #print r\n",
    "    #return r\n",
    "    l = fc*t[:len(r)]\n",
    "    #print len(l)\n",
    "    w = l-r\n",
    "    #print r\n",
    "    #print l\n",
    "    #print w\n",
    "    #return (l, r, w)\n",
    "    sig = np.cos(2*np.pi*w)\n",
    "    \n",
    "    sig = sig[::factor]\n",
    "    #sig = signal.resample(sig, fs)\n",
    "    return sig\n",
    "\n",
    "def nc_afskBaudDemod(sig, fs=48000.0, TBW=2.0, baud = 1200,\\\n",
    "                    f1 = 1200, f2 = 2200):\n",
    "    #  non-coherent demodulation of afsk1200\n",
    "    # function returns the NRZ (without rectifying it)\n",
    "    # \n",
    "    # sig  - signal\n",
    "    # baud - The bitrate. Default 1200\n",
    "    # fs   - sampling rate in Hz\n",
    "    # TBW  - TBW product of the filters\n",
    "    #\n",
    "    # Returns:\n",
    "    #     NRZ \n",
    "    \n",
    "    N = (int(fs/baud*TBW)//2)*2+1\n",
    "\n",
    "    \n",
    "    # your code here\n",
    "    taps = TBW*fs/baud-1\n",
    "    taps = N\n",
    "    filt = signal.firwin(taps, baud/2, window='hanning', nyq=fs/2)\n",
    "    #plt.plot(np.fft.fft(filt))\n",
    "    #plt.plot(filt)\n",
    "    #f1 = 1200\n",
    "    #f2 = 2200\n",
    "    t2 = (r_[0:fs]/fs)[:taps]\n",
    "    filt12k = filt* np.exp(t2*1j*f1*-2*np.pi)\n",
    "    filt22k = filt* np.exp(t2*1j*f2*-2*np.pi)\n",
    "    sig12k = signal.fftconvolve(sig, filt12k, mode=\"same\")\n",
    "    sig22k = signal.fftconvolve(sig, filt22k, mode=\"same\")\n",
    "    diff = np.abs(sig12k)-np.abs(sig22k)\n",
    "    opt = signal.firwin(taps, baud*1.2, window='hanning', nyq=fs/2)\n",
    "    ana = signal.fftconvolve(diff, opt, mode=\"same\")\n",
    "    #sign = np.sign(ana)\n",
    "\n",
    "    NRZ = ana\n",
    "    return NRZ\n",
    "\n",
    "\n",
    "\n",
    "\n",
    "    \n",
    "def PLL(NRZa, a = 0.74 , fs = 48000, baud = 1200):\n",
    "    \n",
    "    idx = []\n",
    "    inc = np.int32(2**32/(fs/baud))\n",
    "    counter = np.int32(0)\n",
    "    last = None\n",
    "    for i, x in enumerate(NRZa):\n",
    "        if last is not None:\n",
    "            if np.sign(last) > np.sign(x):\n",
    "                counter = counter*a\n",
    "                counter = np.int32(counter)\n",
    "                #print \"waha\"\n",
    "        counter2 = counter+inc\n",
    "        if counter2<counter:\n",
    "            idx.append(i)\n",
    "    \n",
    "    \n",
    "    \n",
    "    \n",
    "        counter = counter2\n",
    "        last = x\n",
    "    \n",
    "    \n",
    "    \n",
    "    \n",
    "    \n",
    "    return idx\n",
    "    #return idx.astype(int32) \n"
   ]
  },
  {
   "cell_type": "code",
   "execution_count": 7,
   "metadata": {
    "code_folding": [
     0
    ],
    "collapsed": true
   },
   "outputs": [],
   "source": [
    "def PSNR(im_truth, im_test, maxval=255.):\n",
    "    mse = np.linalg.norm(im_truth.astype(np.float64) - im_test.astype(np.float64))**2 / np.prod(np.shape(im_truth))\n",
    "    return 10 * np.log10(maxval**2 / mse) "
   ]
  },
  {
   "cell_type": "code",
   "execution_count": 8,
   "metadata": {
    "code_folding": [
     0,
     7
    ],
    "collapsed": false,
    "scrolled": true
   },
   "outputs": [],
   "source": [
    "def intarr2bitarr(w):\n",
    "    bits_ref = map(lambda x:format(x, \"08b\"), w)\n",
    "    bits_ref = reduce(lambda x, y:x+y, bits_ref)\n",
    "    #print bits_ref\n",
    "    bits_ref = bitarray.bitarray(bits_ref)\n",
    "    return bits_ref\n",
    "\n",
    "def bitarr2intarr(br):\n",
    "    output = []\n",
    "    working = ''\n",
    "    for x in br:\n",
    "        if x:\n",
    "            working += '1'\n",
    "        else:\n",
    "            working += '0'\n",
    "        if len(working) == 8:\n",
    "            output.append(int(working, 2))\n",
    "            working = '' \n",
    "    return output"
   ]
  },
  {
   "cell_type": "code",
   "execution_count": 9,
   "metadata": {
    "code_folding": [],
    "collapsed": true
   },
   "outputs": [],
   "source": [
    "def img2bitarr(img):\n",
    "    \"\"\"\n",
    "    input:Y by X by 3 img\n",
    "    output: bitarray\n",
    "    \"\"\"\n",
    "    \n",
    "def bitarr2img(bitarr):\n",
    "    \"\"\"\n",
    "    output:Y by X by 3 img\n",
    "    input: bitarray\n",
    "    \"\"\"\n",
    "        "
   ]
  },
  {
   "cell_type": "code",
   "execution_count": 10,
   "metadata": {
    "collapsed": false
   },
   "outputs": [],
   "source": [
    "def img2gzip(name, img = None, fmt = '.tiff'):\n",
    "    if img == None:\n",
    "        img = ndimage.imread(IMG_DIR+name+fmt)\n",
    "    np.save(name, img)\n",
    "    with open(name+'.npy', 'rb') as f:\n",
    "        w = f.read()\n",
    "    with gzip.open(name+'.gz', 'wb') as f:\n",
    "        f.write(w)\n",
    "    misc.imsave(name+'2.jpg', img)\n",
    "\n",
    "def gzip2img(name):\n",
    "    with gzip.open(name+'.gz', 'rb') as f:\n",
    "        e = f.read() \n",
    "    with open(name+'2.npy', 'w') as f:\n",
    "        f.write(e)\n",
    "    return np.load(name+'2.npy')\n",
    "\n",
    "def gz2bitarr(name):\n",
    "    with open(name+'.gz', 'rb') as f:\n",
    "        w = f.read() \n",
    "    asints = struct.unpack('B'*len(w), w)\n",
    "    return intarr2bitarr(asints)\n",
    "\n",
    "def bitarr2gz(name, arr):    \n",
    "    w = bitarr2intarr(arr)\n",
    "    y = struct.pack('B'*len(w), *w)\n",
    "    with open(name+'.gz', 'wb') as f:\n",
    "        f.write(y)"
   ]
  },
  {
   "cell_type": "code",
   "execution_count": 11,
   "metadata": {
    "code_folding": [
     0,
     12
    ],
    "collapsed": true
   },
   "outputs": [],
   "source": [
    "def NRZ2NRZI(NRZ):\n",
    "    \n",
    "    NRZI = NRZ.copy() \n",
    "    current = True\n",
    "    for n in range(0,len(NRZ)):\n",
    "        if NRZ[n] :\n",
    "            NRZI[n] = current\n",
    "        else:\n",
    "            NRZI[n] = not(current)\n",
    "        current = NRZI[n]\n",
    "    return NRZI\n",
    "\n",
    "def NRZI2NRZ(NRZI, current = True):\n",
    "    \n",
    "    NRZ = NRZI.copy() \n",
    "    \n",
    "    for n in range(0,len(NRZI)):\n",
    "        NRZ[n] = NRZI[n] == current\n",
    "        current = NRZI[n]\n",
    "    \n",
    "    return NRZ\n"
   ]
  },
  {
   "cell_type": "code",
   "execution_count": 12,
   "metadata": {
    "collapsed": false
   },
   "outputs": [
    {
     "ename": "IOError",
     "evalue": "[Errno 2] No such file or directory: 'Isee.gz'",
     "output_type": "error",
     "traceback": [
      "\u001b[1;31m---------------------------------------------------------------------------\u001b[0m",
      "\u001b[1;31mIOError\u001b[0m                                   Traceback (most recent call last)",
      "\u001b[1;32m<ipython-input-12-7666cdedd7d5>\u001b[0m in \u001b[0;36m<module>\u001b[1;34m()\u001b[0m\n\u001b[1;32m----> 1\u001b[1;33m \u001b[0mt\u001b[0m \u001b[1;33m=\u001b[0m \u001b[0mgz2bitarr\u001b[0m\u001b[1;33m(\u001b[0m\u001b[1;34m'Isee'\u001b[0m\u001b[1;33m)\u001b[0m\u001b[1;33m\u001b[0m\u001b[0m\n\u001b[0m\u001b[0;32m      2\u001b[0m \u001b[0mt\u001b[0m\u001b[1;33m\u001b[0m\u001b[0m\n\u001b[0;32m      3\u001b[0m \u001b[0mbitarr2intarr\u001b[0m\u001b[1;33m(\u001b[0m\u001b[0mt\u001b[0m\u001b[1;33m)\u001b[0m\u001b[1;33m\u001b[0m\u001b[0m\n\u001b[0;32m      4\u001b[0m \u001b[0mbitarr2gz\u001b[0m\u001b[1;33m(\u001b[0m\u001b[1;34m'Isee2'\u001b[0m\u001b[1;33m,\u001b[0m \u001b[0mt\u001b[0m\u001b[1;33m)\u001b[0m\u001b[1;33m\u001b[0m\u001b[0m\n",
      "\u001b[1;32m<ipython-input-10-cc8ff7cb9529>\u001b[0m in \u001b[0;36mgz2bitarr\u001b[1;34m(name)\u001b[0m\n\u001b[0;32m     17\u001b[0m \u001b[1;33m\u001b[0m\u001b[0m\n\u001b[0;32m     18\u001b[0m \u001b[1;32mdef\u001b[0m \u001b[0mgz2bitarr\u001b[0m\u001b[1;33m(\u001b[0m\u001b[0mname\u001b[0m\u001b[1;33m)\u001b[0m\u001b[1;33m:\u001b[0m\u001b[1;33m\u001b[0m\u001b[0m\n\u001b[1;32m---> 19\u001b[1;33m     \u001b[1;32mwith\u001b[0m \u001b[0mopen\u001b[0m\u001b[1;33m(\u001b[0m\u001b[0mname\u001b[0m\u001b[1;33m+\u001b[0m\u001b[1;34m'.gz'\u001b[0m\u001b[1;33m,\u001b[0m \u001b[1;34m'rb'\u001b[0m\u001b[1;33m)\u001b[0m \u001b[1;32mas\u001b[0m \u001b[0mf\u001b[0m\u001b[1;33m:\u001b[0m\u001b[1;33m\u001b[0m\u001b[0m\n\u001b[0m\u001b[0;32m     20\u001b[0m         \u001b[0mw\u001b[0m \u001b[1;33m=\u001b[0m \u001b[0mf\u001b[0m\u001b[1;33m.\u001b[0m\u001b[0mread\u001b[0m\u001b[1;33m(\u001b[0m\u001b[1;33m)\u001b[0m\u001b[1;33m\u001b[0m\u001b[0m\n\u001b[0;32m     21\u001b[0m     \u001b[0masints\u001b[0m \u001b[1;33m=\u001b[0m \u001b[0mstruct\u001b[0m\u001b[1;33m.\u001b[0m\u001b[0munpack\u001b[0m\u001b[1;33m(\u001b[0m\u001b[1;34m'B'\u001b[0m\u001b[1;33m*\u001b[0m\u001b[0mlen\u001b[0m\u001b[1;33m(\u001b[0m\u001b[0mw\u001b[0m\u001b[1;33m)\u001b[0m\u001b[1;33m,\u001b[0m \u001b[0mw\u001b[0m\u001b[1;33m)\u001b[0m\u001b[1;33m\u001b[0m\u001b[0m\n",
      "\u001b[1;31mIOError\u001b[0m: [Errno 2] No such file or directory: 'Isee.gz'"
     ]
    }
   ],
   "source": [
    "t = gz2bitarr('Isee')\n",
    "t\n",
    "bitarr2intarr(t)\n",
    "bitarr2gz('Isee2', t)"
   ]
  },
  {
   "cell_type": "code",
   "execution_count": 13,
   "metadata": {
    "collapsed": false
   },
   "outputs": [
    {
     "ename": "NameError",
     "evalue": "name 't' is not defined",
     "output_type": "error",
     "traceback": [
      "\u001b[1;31m---------------------------------------------------------------------------\u001b[0m",
      "\u001b[1;31mNameError\u001b[0m                                 Traceback (most recent call last)",
      "\u001b[1;32m<ipython-input-13-1807d86f7dfc>\u001b[0m in \u001b[0;36m<module>\u001b[1;34m()\u001b[0m\n\u001b[1;32m----> 1\u001b[1;33m \u001b[0mlen\u001b[0m\u001b[1;33m(\u001b[0m\u001b[0mt\u001b[0m\u001b[1;33m)\u001b[0m\u001b[1;33m//\u001b[0m\u001b[1;36m8\u001b[0m\u001b[1;33m\u001b[0m\u001b[0m\n\u001b[0m",
      "\u001b[1;31mNameError\u001b[0m: name 't' is not defined"
     ]
    }
   ],
   "source": [
    "len(t)//8"
   ]
  },
  {
   "cell_type": "code",
   "execution_count": null,
   "metadata": {
    "collapsed": false
   },
   "outputs": [],
   "source": [
    "print t[0:5]"
   ]
  },
  {
   "cell_type": "code",
   "execution_count": 14,
   "metadata": {
    "collapsed": false
   },
   "outputs": [
    {
     "ename": "IOError",
     "evalue": "[Errno 2] No such file or directory: 'test.npy'",
     "output_type": "error",
     "traceback": [
      "\u001b[1;31m---------------------------------------------------------------------------\u001b[0m",
      "\u001b[1;31mIOError\u001b[0m                                   Traceback (most recent call last)",
      "\u001b[1;32m<ipython-input-14-413439debb59>\u001b[0m in \u001b[0;36m<module>\u001b[1;34m()\u001b[0m\n\u001b[1;32m----> 1\u001b[1;33m \u001b[0mimgt\u001b[0m \u001b[1;33m=\u001b[0m \u001b[0mnp\u001b[0m\u001b[1;33m.\u001b[0m\u001b[0mload\u001b[0m\u001b[1;33m(\u001b[0m\u001b[1;34m'test.npy'\u001b[0m\u001b[1;33m)\u001b[0m\u001b[1;33m\u001b[0m\u001b[0m\n\u001b[0m\u001b[0;32m      2\u001b[0m \u001b[0mplt\u001b[0m\u001b[1;33m.\u001b[0m\u001b[0mimshow\u001b[0m\u001b[1;33m(\u001b[0m\u001b[0mimgt\u001b[0m\u001b[1;33m)\u001b[0m\u001b[1;33m\u001b[0m\u001b[0m\n",
      "\u001b[1;32mD:\\Anaconda\\lib\\site-packages\\numpy\\lib\\npyio.pyc\u001b[0m in \u001b[0;36mload\u001b[1;34m(file, mmap_mode)\u001b[0m\n\u001b[0;32m    367\u001b[0m     \u001b[0mown_fid\u001b[0m \u001b[1;33m=\u001b[0m \u001b[0mFalse\u001b[0m\u001b[1;33m\u001b[0m\u001b[0m\n\u001b[0;32m    368\u001b[0m     \u001b[1;32mif\u001b[0m \u001b[0misinstance\u001b[0m\u001b[1;33m(\u001b[0m\u001b[0mfile\u001b[0m\u001b[1;33m,\u001b[0m \u001b[0mbasestring\u001b[0m\u001b[1;33m)\u001b[0m\u001b[1;33m:\u001b[0m\u001b[1;33m\u001b[0m\u001b[0m\n\u001b[1;32m--> 369\u001b[1;33m         \u001b[0mfid\u001b[0m \u001b[1;33m=\u001b[0m \u001b[0mopen\u001b[0m\u001b[1;33m(\u001b[0m\u001b[0mfile\u001b[0m\u001b[1;33m,\u001b[0m \u001b[1;34m\"rb\"\u001b[0m\u001b[1;33m)\u001b[0m\u001b[1;33m\u001b[0m\u001b[0m\n\u001b[0m\u001b[0;32m    370\u001b[0m         \u001b[0mown_fid\u001b[0m \u001b[1;33m=\u001b[0m \u001b[0mTrue\u001b[0m\u001b[1;33m\u001b[0m\u001b[0m\n\u001b[0;32m    371\u001b[0m     \u001b[1;32melif\u001b[0m \u001b[0misinstance\u001b[0m\u001b[1;33m(\u001b[0m\u001b[0mfile\u001b[0m\u001b[1;33m,\u001b[0m \u001b[0mgzip\u001b[0m\u001b[1;33m.\u001b[0m\u001b[0mGzipFile\u001b[0m\u001b[1;33m)\u001b[0m\u001b[1;33m:\u001b[0m\u001b[1;33m\u001b[0m\u001b[0m\n",
      "\u001b[1;31mIOError\u001b[0m: [Errno 2] No such file or directory: 'test.npy'"
     ]
    }
   ],
   "source": [
    "imgt = np.load('test.npy')\n",
    "plt.imshow(imgt)"
   ]
  },
  {
   "cell_type": "code",
   "execution_count": null,
   "metadata": {
    "collapsed": false
   },
   "outputs": [],
   "source": [
    "img = ndimage.imread(IMG_DIR+'createrLake.tiff')\n",
    "imgb = ndimage.imread(IMG_DIR+'bird.jpg')\n",
    "plt.imshow(img)"
   ]
  },
  {
   "cell_type": "code",
   "execution_count": null,
   "metadata": {
    "collapsed": false
   },
   "outputs": [],
   "source": [
    "import os \n",
    "name = 'pauly'\n",
    "img = ndimage.imread(IMG_DIR+name+'.tiff')\n",
    "img2gzip(name)\n",
    "imgtest = gzip2img(name)\n",
    "plt.imshow(imgtest)\n",
    "plt.imshow(img)\n",
    "statorig = os.stat(IMG_DIR+name+'.tiff').st_size\n",
    "statcomp = os.stat(name+'.gz').st_size\n",
    "statjpg = os.stat(name+'2.jpg').st_size\n",
    "print \"compression ratio: {}\".format(statcomp/statorig)\n",
    "print \"jpg ratio: {}\".format(statjpg/statorig)\n",
    "\n",
    "#print imgtest[0][0][0]\n",
    "#imgtest[0][0][0] -= 1\n",
    "PSNR(img, imgtest)\n"
   ]
  },
  {
   "cell_type": "code",
   "execution_count": null,
   "metadata": {
    "collapsed": false
   },
   "outputs": [],
   "source": [
    "\n"
   ]
  },
  {
   "cell_type": "code",
   "execution_count": null,
   "metadata": {
    "collapsed": false
   },
   "outputs": [],
   "source": []
  },
  {
   "cell_type": "code",
   "execution_count": null,
   "metadata": {
    "collapsed": false
   },
   "outputs": [],
   "source": [
    "import pyaudio\n",
    "p = pyaudio.PyAudio()\n",
    "\n",
    "print p.get_default_input_device_info()\n",
    "printDevNumbers(p)\n",
    "p.terminate()"
   ]
  },
  {
   "cell_type": "code",
   "execution_count": null,
   "metadata": {
    "collapsed": false
   },
   "outputs": [],
   "source": [
    "# CHANGE!!!!\n",
    "p = pyaudio.PyAudio()\n",
    "printDevNumbers(p)\n",
    "p.terminate()\n",
    "dusb_in = 3\n",
    "dusb_out = 3\n",
    "din = 5\n",
    "dout = 5"
   ]
  },
  {
   "cell_type": "code",
   "execution_count": null,
   "metadata": {
    "code_folding": [
     0
    ],
    "collapsed": false
   },
   "outputs": [],
   "source": [
    "\"\"\"\n",
    "if sys.platform == 'darwin':  # Mac\n",
    "    s = serial.Serial(port='/dev/tty.SLAB_USBtoUART')\n",
    "else:                         #windows\n",
    "    try: \n",
    "        s = serial.Serial(port='/dev/ttyUSB0') # CHANGE !!!!!!\n",
    "    except:\n",
    "        s = serial.Serial(port='/dev/ttyUSB1') # CHANGE !!!!!!\n",
    "    s.setDTR(0)\n",
    "\"\"\""
   ]
  },
  {
   "cell_type": "code",
   "execution_count": null,
   "metadata": {
    "code_folding": [
     0,
     12
    ],
    "collapsed": true
   },
   "outputs": [],
   "source": [
    "def NRZ2NRZI(NRZ):\n",
    "    \n",
    "    NRZI = NRZ.copy() \n",
    "    current = True\n",
    "    for n in range(0,len(NRZ)):\n",
    "        if NRZ[n] :\n",
    "            NRZI[n] = current\n",
    "        else:\n",
    "            NRZI[n] = not(current)\n",
    "        current = NRZI[n]\n",
    "    return NRZI\n",
    "\n",
    "def NRZI2NRZ(NRZI, current = True):\n",
    "    \n",
    "    NRZ = NRZI.copy() \n",
    "    \n",
    "    for n in range(0,len(NRZI)):\n",
    "        NRZ[n] = NRZI[n] == current\n",
    "        current = NRZI[n]\n",
    "    \n",
    "    return NRZ\n"
   ]
  },
  {
   "cell_type": "code",
   "execution_count": null,
   "metadata": {
    "collapsed": false
   },
   "outputs": [],
   "source": []
  },
  {
   "cell_type": "code",
   "execution_count": null,
   "metadata": {
    "collapsed": false
   },
   "outputs": [],
   "source": [
    "\"\"\"\n",
    "p = pyaudio.PyAudio()\n",
    "\n",
    "Qout = Queue.Queue()\n",
    "ctrlQ = Queue.Queue()\n",
    "\n",
    "Qout.put(\"KEYON\")\n",
    "Qout.put(msg*0.2)  # pick the gain that you calibrated in lab 5 part I\n",
    "Qout.put(\"KEYOFF\")\n",
    "Qout.put(\"EOT\")\n",
    "\n",
    "play_audio( Qout ,ctrlQ ,p, 48000 , dusb_out, s, keydelay=0.1)\n",
    "\n",
    "\n",
    "time.sleep(1)\n",
    "p.terminate()\n",
    "\"\"\""
   ]
  },
  {
   "cell_type": "code",
   "execution_count": null,
   "metadata": {
    "collapsed": false
   },
   "outputs": [],
   "source": [
    "img = ndimage.imread(IMG_DIR+'calBlue.tiff')\n",
    "plt.imshow(img)\n",
    "plt.show()"
   ]
  },
  {
   "cell_type": "code",
   "execution_count": null,
   "metadata": {
    "collapsed": false
   },
   "outputs": [],
   "source": [
    "w = img.shape\n",
    "w = img.reshape(1,1,42*52*3)[0][0]\n",
    "w2 = w"
   ]
  },
  {
   "cell_type": "code",
   "execution_count": null,
   "metadata": {
    "collapsed": false
   },
   "outputs": [],
   "source": []
  },
  {
   "cell_type": "code",
   "execution_count": null,
   "metadata": {
    "collapsed": false
   },
   "outputs": [],
   "source": []
  },
  {
   "cell_type": "code",
   "execution_count": null,
   "metadata": {
    "collapsed": false,
    "scrolled": true
   },
   "outputs": [],
   "source": []
  },
  {
   "cell_type": "code",
   "execution_count": null,
   "metadata": {
    "collapsed": false
   },
   "outputs": [],
   "source": [
    "import ax25\n",
    "\n",
    "callsign = \"KM6BKZ\"\n",
    "Digi =b'WIDE1-1,WIDE2-1'\n",
    "dest = \"APCAL\"\n",
    "\n",
    "# Uncomment to Send Email\n",
    "#info = \":EMAIL    :mlustig@eecs.berkeley.edu Hi, its YOURNAME, what a great lab!\"\n",
    "info = \":EMAIL    :chris.d@berkeley.edu MWEEEEE\"\n",
    "# Uncomment to Send an SMS message to a phone number (update the number!)\n",
    "#info = \":SMSGTE   :@5108594141 Hi Miki, this is CHRIS DINH. I think this is working\"\n",
    "#uncomment to show yourself on mt everest\n",
    "#info = \"=2759.16N/08655.30E[I'm on the top of the world\"\n",
    "\n",
    "#uncomment to send to everyone on the APRS system near you\n",
    "#info = \":ALL      : CQCQCQ I would like to talk to you!\"\n",
    "\n",
    "\n",
    "# uncomment to report position\n",
    "#info = \"=3752.50N/12215.43WlIm using a laptop in Cory Hall!\"\n",
    "\n",
    "# uncomment to send a status message\n",
    "#info = \">I like radios\"\n",
    "\n",
    "\n",
    "packet = ax25.UI(\n",
    "\t\tdestination=dest,\n",
    "\t\tsource=callsign, \n",
    "\t\tinfo=info,\n",
    "\t\tdigipeaters=Digi.split(b','),\n",
    "        )\n",
    "print(packet.unparse())"
   ]
  },
  {
   "cell_type": "code",
   "execution_count": null,
   "metadata": {
    "collapsed": false
   },
   "outputs": [],
   "source": [
    "import pyaudio\n",
    "p = pyaudio.PyAudio()\n",
    "printDevNumbers(p)\n",
    "p.terminate()\n",
    "dusb_in = 4\n",
    "dusb_out = 4\n",
    "din = 6\n",
    "dout = 6"
   ]
  },
  {
   "cell_type": "code",
   "execution_count": null,
   "metadata": {
    "collapsed": false
   },
   "outputs": [],
   "source": []
  },
  {
   "cell_type": "code",
   "execution_count": null,
   "metadata": {
    "collapsed": true
   },
   "outputs": [],
   "source": [
    "def bitstuff(w):\n",
    "    start = 0\n",
    "    end = 5\n",
    "    w = list(w)\n",
    "    while end <= len(w):\n",
    "        if w[start:end] == [1,1,1,1,1]:\n",
    "            w.insert(end, 0)\n",
    "        start += 1\n",
    "        end += 1\n",
    "    return w"
   ]
  },
  {
   "cell_type": "code",
   "execution_count": null,
   "metadata": {
    "collapsed": false
   },
   "outputs": [],
   "source": [
    "prefix = bitarray.bitarray(tile([0,1,1,1,1,1,1,0],(20,)).tolist())\n",
    "padded = prefix + packet.unparse() + prefix\n",
    "sig = NRZ2NRZI(padded)\n",
    "msg = afsk1200(sig)"
   ]
  },
  {
   "cell_type": "code",
   "execution_count": null,
   "metadata": {
    "collapsed": false
   },
   "outputs": [],
   "source": [
    "#prefix = bitarray(tile([0,1,1,1,1,1,1,0],(20,)).tolist())\n",
    "#padded = prefix + bitstuff(w) + prefix\n",
    "sig = NRZ2NRZI(padded)\n",
    "msg = afsk1200(sig)\n",
    "#w3\n",
    "#padded = prefix + w3 + prefix\n",
    "sig = NRZ2NRZI(w)\n",
    "msg2 = afsk1200(sig)\n",
    "#plt.plot(msg2)"
   ]
  },
  {
   "cell_type": "code",
   "execution_count": null,
   "metadata": {
    "collapsed": false
   },
   "outputs": [],
   "source": [
    "p = pyaudio.PyAudio()\n",
    "Q = Queue.Queue()\n",
    "ctrlQ = Queue.Queue()  # dummy, but necessary!\n",
    "\n",
    "Q.put(msg*0.5)\n",
    "Q.put('EOT')\n",
    "\n",
    "#play_audio(Q, ctrlQ,  p, 48000, dout)\n",
    "p.terminate()"
   ]
  },
  {
   "cell_type": "code",
   "execution_count": null,
   "metadata": {
    "collapsed": false
   },
   "outputs": [],
   "source": [
    "\"\"\"\n",
    "try: \n",
    "    s = serial.Serial(port='/dev/ttyUSB0') # CHANGE !!!!!!\n",
    "except:\n",
    "    s = serial.Serial(port='/dev/ttyUSB1') # CHANGE !!!!!!\n",
    "s.setDTR(0)\n",
    "p = pyaudio.PyAudio()\n",
    "\n",
    "Qout = Queue.Queue()\n",
    "ctrlQ = Queue.Queue()\n",
    "\n",
    "Qout.put(\"KEYON\")\n",
    "Qout.put(msg*0.2)  # pick the gain that you calibrated in lab 5 part I\n",
    "Qout.put(\"KEYOFF\")\n",
    "Qout.put(\"EOT\")\n",
    "\n",
    "play_audio( Qout ,ctrlQ ,p, 48000 , dout, s, keydelay=0.1)\n",
    "\n",
    "\n",
    "time.sleep(1)\n",
    "p.terminate()\n",
    "\n",
    "\n",
    "\n",
    "\n",
    "# code for playing audio\n",
    "p = pyaudio.PyAudio()\n",
    "Q = Queue.Queue()\n",
    "ctrlQ = Queue.Queue()  # dummy, but necessary!\n",
    "\n",
    "\n",
    "Qin = Queue.Queue()\n",
    "cQin = Queue.Queue()\n",
    "#t_rec = threading.Thread(target = record_audio,   args = (Qin, cQin,p, 48000, dusb_in, 512))\n",
    "t_rec = threading.Thread(target = record_audio,   args = (Qin, cQin,p, 48000, din, 512))\n",
    "\n",
    "t_rec.start()\n",
    "time.sleep(1)\n",
    "\n",
    "\n",
    "\n",
    "Q.put(msg*0.3)\n",
    "Q.put('EOT')\n",
    "\n",
    "play_audio(Q, ctrlQ,  p, 48000, 4)\n",
    "\n",
    "\n",
    "time.sleep(1)\n",
    "\n",
    "cQin.put('EOT')\n",
    "time.sleep(3)\n",
    "\n",
    "\n",
    "p.terminate()\n",
    "\n",
    "tmp = []\n",
    "while not Qin.empty():\n",
    "    tmp.append(Qin.get())\n",
    "sig = tmp\n",
    "\"\"\""
   ]
  },
  {
   "cell_type": "code",
   "execution_count": null,
   "metadata": {
    "collapsed": false
   },
   "outputs": [],
   "source": []
  },
  {
   "cell_type": "code",
   "execution_count": null,
   "metadata": {
    "collapsed": false
   },
   "outputs": [],
   "source": []
  },
  {
   "cell_type": "code",
   "execution_count": null,
   "metadata": {
    "collapsed": true
   },
   "outputs": [],
   "source": [
    "sig = np.array(sig)\n",
    "sig2 = sig.flatten()\n"
   ]
  },
  {
   "cell_type": "code",
   "execution_count": null,
   "metadata": {
    "collapsed": false,
    "scrolled": true
   },
   "outputs": [],
   "source": [
    "sig2.shape"
   ]
  },
  {
   "cell_type": "code",
   "execution_count": null,
   "metadata": {
    "collapsed": false
   },
   "outputs": [],
   "source": [
    "plt.plot(sig2)"
   ]
  },
  {
   "cell_type": "code",
   "execution_count": null,
   "metadata": {
    "collapsed": false
   },
   "outputs": [],
   "source": [
    "with open('Isee.gz', 'rb') as f:\n",
    "    t = f.read()\n",
    "t[0:5]"
   ]
  },
  {
   "cell_type": "code",
   "execution_count": 16,
   "metadata": {
    "collapsed": false
   },
   "outputs": [
    {
     "name": "stderr",
     "output_type": "stream",
     "text": [
      "D:\\Anaconda\\lib\\site-packages\\ipykernel\\__main__.py:42: DeprecationWarning: using a non-integer number instead of an integer will result in an error in the future\n",
      "D:\\Anaconda\\lib\\site-packages\\ipykernel\\__main__.py:45: DeprecationWarning: using a non-integer number instead of an integer will result in an error in the future\n"
     ]
    }
   ],
   "source": [
    "  \n",
    "callsign = \"KM6BKZ\"\n",
    "Digi =b'WIDE1-1,WIDE2-1'\n",
    "dest = \"APCAL\"\n",
    "\n",
    "info1 = \":1234567890\"\n",
    "info2 = \":SMSGTE   :@4085966861 PINGPING\"\n",
    "info3 = \">This is packet number 3\"\n",
    "\n",
    "\n",
    "packet1 = ax25.UI(\n",
    "\t\tdestination=dest,\n",
    "\t\tsource=callsign, \n",
    "\t\tinfo=info1,\n",
    "\t\tdigipeaters=Digi.split(b','),\n",
    "        )\n",
    "packet2 = ax25.UI(\n",
    "\t\tdestination=dest,\n",
    "\t\tsource=callsign, \n",
    "\t\tinfo=info2,\n",
    "\t\tdigipeaters=Digi.split(b','),\n",
    "        )\n",
    "packet3 = ax25.UI(\n",
    "\t\tdestination=dest,\n",
    "\t\tsource=callsign, \n",
    "\t\tinfo=info3,\n",
    "\t\tdigipeaters=Digi.split(b','),\n",
    "        )\n",
    "fc = 1700\n",
    "fd = 500    \n",
    "    \n",
    "baud = 48000/40*2\n",
    "fc = 1700\n",
    "fd = 500\n",
    "\n",
    "prefix = bitarray.bitarray(tile([0,1,1,1,1,1,1,0],(20,)).tolist())\n",
    "padded1 = prefix + packet1.unparse() + prefix\n",
    "sig1 = NRZ2NRZI(padded1)\n",
    "msg1 = afsk1200(sig1, baud = baud, fc = fc, fd = fd)\n",
    "padded2 = prefix + packet2.unparse() + prefix\n",
    "sig2 = NRZ2NRZI(padded2)\n",
    "msg2 = afsk1200(sig2, baud = baud, fc = fc, fd = fd)\n",
    "padded3 = prefix + packet3.unparse() + prefix\n",
    "sig3 = NRZ2NRZI(padded3)\n",
    "msg3 = afsk1200(sig3, baud = baud, fc = fc, fd = fd)\n",
    "\n",
    "\n",
    "\n",
    "msg4 = mafsk1200(sig1, baud = baud)#, fc = 2700, fd = 1000)\n",
    "\n",
    "msg5 = mafsk1200(sig2, baud = baud)#, fc = 2700, fd = 1000)\n",
    "\n",
    "msg6 = mafsk1200(sig3, baud = baud)#, fc = 2700, fd = 1000)\n",
    "#print len(sig1)*20\n",
    "#print len(msg4)"
   ]
  },
  {
   "cell_type": "code",
   "execution_count": 18,
   "metadata": {
    "collapsed": false
   },
   "outputs": [
    {
     "name": "stdout",
     "output_type": "stream",
     "text": [
      "bitarray('00000001000000010000000100000001000000010000000100000001000000010000000100000001000000010000000100000001000000010000000100000001000000010000000100000001000000010000000100101011010100110001010011010100101110110101011010101110111001001100010010001110100101001110010010011100101011101111001100100100101101001100101100101110101010010010111011110011001001001011010011001011011011101010100111010001110101010101111100000010101100110101100011011000111011110101011011011000111011110101011010101111001010001110100011100111001101110100111101010110100001110011000011000111011010001100100010010000101010010001000100001101000001100111111101111111011111110111111101111111011111110111111101111111011111110111111101111111011111110111111101111111011111110111111101111111011111110111111101111111011111110')\n"
     ]
    },
    {
     "data": {
      "image/png": "[encoded data removed]",
      "text/plain": [
       "<matplotlib.figure.Figure at 0x145dc5c0>"
      ]
     },
     "metadata": {},
     "output_type": "display_data"
    }
   ],
   "source": [
    "if 1:\n",
    "    plt.plot(msg1[8000:8000+5000])\n",
    "    print sig3[:1000]"
   ]
  },
  {
   "cell_type": "code",
   "execution_count": 19,
   "metadata": {
    "collapsed": false
   },
   "outputs": [
    {
     "name": "stdout",
     "output_type": "stream",
     "text": [
      "8 33\n",
      "0 Microsoft Sound Mapper - Input\n",
      "1 Microphone (USB PnP Sound Devic\n",
      "2 Microphone (VIA HD Audio(Compat\n",
      "3 Microsoft Sound Mapper - Output\n",
      "4 Digital Audio (HDMI) (2- High D\n",
      "5 Speakers (VIA HD Audio(Compatib\n",
      "6 Headphone (VIA HD Audio(Compati\n",
      "7 Speakers (USB PnP Sound Device)\n"
     ]
    }
   ],
   "source": [
    "p = pyaudio.PyAudio()\n",
    "printDevNumbers(p)\n",
    "p.terminate()\n",
    "dusb_in = 1 \n",
    "dusb_out = 7\n",
    "din = 6\n",
    "dout = 6\n",
    "dusb_out2 = 4\n",
    "dusb_in2 = 4\n",
    "try: \n",
    "    s = serial.Serial(port='/dev/ttyUSB0') # CHANGE !!!!!!\n",
    "except:\n",
    "    try:\n",
    "        s = serial.Serial(port='/dev/ttyUSB1') # CHANGE !!!!!!\n",
    "    except:\n",
    "        s = serial.Serial(port='COM4') # CHANGE !!!!!!\n",
    "s.setDTR(0)"
   ]
  },
  {
   "cell_type": "code",
   "execution_count": 20,
   "metadata": {
    "collapsed": false
   },
   "outputs": [
    {
     "name": "stdout",
     "output_type": "stream",
     "text": [
      "Closed  play thread\n",
      "Closed  play thread\n",
      "Closed  play thread\n",
      "Closed  play thread\n",
      "Closed  play thread\n",
      "Closed  play thread\n",
      "Closed  record thread\n"
     ]
    }
   ],
   "source": [
    "s.setDTR(0)\n",
    "tmp = []\n",
    "p = pyaudio.PyAudio()\n",
    "\n",
    "Qout1 = Queue.Queue()\n",
    "ctrlQ1 = Queue.Queue()\n",
    "\n",
    "Qout2 = Queue.Queue()\n",
    "ctrlQ2 = Queue.Queue()\n",
    "\n",
    "Qout3 = Queue.Queue()\n",
    "ctrlQ3 = Queue.Queue()\n",
    "\n",
    "Qout4 = Queue.Queue()\n",
    "ctrlQ4 = Queue.Queue()\n",
    "\n",
    "Qout5 = Queue.Queue()\n",
    "ctrlQ5 = Queue.Queue()\n",
    "\n",
    "Qout6 = Queue.Queue()\n",
    "ctrlQ6 = Queue.Queue()\n",
    "\n",
    "\n",
    "Qin = Queue.Queue()\n",
    "cQin = Queue.Queue()\n",
    "t_rec = threading.Thread(target = record_audio,   args = (Qin, cQin,p, 48000, dusb_in, 512))\n",
    "t_rec.start()\n",
    "time.sleep(2)\n",
    "scale = .15\n",
    "Qout1.put(\"KEYON\")\n",
    "Qout1.put(msg1*scale)  # pick the gain that you calibrated in lab 5 part I\n",
    "Qout1.put(\"KEYOFF\")\n",
    "Qout1.put(\"EOT\")\n",
    "\n",
    "Qout2.put(\"KEYON\")\n",
    "Qout2.put(msg2*scale)  # pick the gain that you calibrated in lab 5 part I\n",
    "Qout2.put(\"KEYOFF\")\n",
    "Qout2.put(\"EOT\")\n",
    "\n",
    "Qout3.put(\"KEYON\")\n",
    "Qout3.put(msg3*scale)  # pick the gain that you calibrated in lab 5 part I\n",
    "Qout3.put(\"KEYOFF\")\n",
    "Qout3.put(\"EOT\")\n",
    "\n",
    "\n",
    "Qout4.put(\"KEYON\")\n",
    "Qout4.put(msg4*scale)  # pick the gain that you calibrated in lab 5 part I\n",
    "Qout4.put(\"KEYOFF\")\n",
    "Qout4.put(\"EOT\")\n",
    "\n",
    "Qout5.put(\"KEYON\")\n",
    "Qout5.put(msg5*scale)  # pick the gain that you calibrated in lab 5 part I\n",
    "Qout5.put(\"KEYOFF\")\n",
    "Qout5.put(\"EOT\")\n",
    "\n",
    "Qout6.put(\"KEYON\")\n",
    "Qout6.put(msg6*scale)  # pick the gain that you calibrated in lab 5 part I\n",
    "Qout6.put(\"KEYOFF\")\n",
    "Qout6.put(\"EOT\")\n",
    "#\"\"\"\n",
    "play_audio( Qout1 ,ctrlQ1 ,p, 48000 , dusb_out, s, keydelay=0.1)\n",
    "time.sleep(1)\n",
    "\n",
    "play_audio( Qout2 ,ctrlQ2 ,p, 48000 , dusb_out, s, keydelay=0.1)\n",
    "time.sleep(1)\n",
    "while not Qin.empty():\n",
    "    tmp.append(Qin.get())\n",
    "play_audio( Qout3 ,ctrlQ3 ,p, 48000 , dusb_out, s, keydelay=0.1)\n",
    "time.sleep(1)\n",
    "#time.sleep(60)\n",
    "#\"\"\"\n",
    "#\"\"\"\n",
    "play_audio( Qout4 ,ctrlQ4 ,p, 48000 , dusb_out, s, keydelay=0.1)\n",
    "time.sleep(1)\n",
    "while not Qin.empty():\n",
    "    tmp.append(Qin.get())\n",
    "play_audio( Qout5 ,ctrlQ5 ,p, 48000 , dusb_out, s, keydelay=0.1)\n",
    "time.sleep(1)\n",
    "play_audio( Qout6 ,ctrlQ6 ,p, 48000 , dusb_out, s, keydelay=0.1)\n",
    "time.sleep(1)\n",
    "\n",
    "#\"\"\"\n",
    "cQin.put('EOT')\n",
    "time.sleep(3)\n",
    "while not Qin.empty():\n",
    "    tmp.append(Qin.get())\n",
    "sig = tmp\n",
    "\n",
    "\n",
    "#with Qin.mutex:\n",
    "#    Qin.queue.clear()\n",
    "with cQin.mutex:\n",
    "    cQin.queue.clear()    \n",
    "with Qout1.mutex:\n",
    "    Qout1.queue.clear()\n",
    "with ctrlQ1.mutex:\n",
    "    ctrlQ1.queue.clear()\n",
    "with Qout2.mutex:\n",
    "    Qout2.queue.clear()\n",
    "with ctrlQ2.mutex:\n",
    "    ctrlQ2.queue.clear()\n",
    "with Qout3.mutex:\n",
    "    Qout3.queue.clear()\n",
    "with ctrlQ3.mutex:\n",
    "    ctrlQ3.queue.clear()\n",
    "with Qout4.mutex:\n",
    "    Qout4.queue.clear()\n",
    "with ctrlQ4.mutex:\n",
    "    ctrlQ4.queue.clear()\n",
    "with Qout5.mutex:\n",
    "    Qout5.queue.clear()\n",
    "with ctrlQ5.mutex:\n",
    "    ctrlQ5.queue.clear()\n",
    "with Qout6.mutex:\n",
    "    Qout6.queue.clear()\n",
    "with ctrlQ6.mutex:\n",
    "    ctrlQ6.queue.clear()\n",
    "p.terminate()"
   ]
  },
  {
   "cell_type": "code",
   "execution_count": 21,
   "metadata": {
    "collapsed": false
   },
   "outputs": [],
   "source": [
    "if False:\n",
    "    try:\n",
    "        try:\n",
    "            s = serial.Serial(port='/dev/ttyUSB0')\n",
    "        except:\n",
    "            s = serial.Serial(port='/dev/ttyUSB1')\n",
    "        s.setDTR(0)\n",
    "        #s = serial.Serial(port='COM3')\n",
    "        #s.setDTR(0)\n",
    "\n",
    "        Qin = Queue.Queue()\n",
    "        cQin = Queue.Queue()\n",
    "\n",
    "        p = pyaudio.PyAudio()\n",
    "        fs_usb = 48e3\n",
    "\n",
    "        Transmission.record_audio(Qin, cQin, p, fs_usb, dusb_in, 512)\n",
    "    \n",
    "\n",
    "    except NameError:\n",
    "        print 'ooga booga'\n",
    "    time.sleep(2)\n",
    "    cQin.put('EOT')\n",
    "    time.sleep(2)\n",
    "    p.terminate()\n",
    "    s.close()\n",
    "    recorded = []\n",
    "    while not (Qin.empty()):\n",
    "        recorded.append(Qin.get())"
   ]
  },
  {
   "cell_type": "code",
   "execution_count": 22,
   "metadata": {
    "collapsed": false
   },
   "outputs": [
    {
     "data": {
      "text/plain": [
       "[<matplotlib.lines.Line2D at 0x148cc400>]"
      ]
     },
     "execution_count": 22,
     "metadata": {},
     "output_type": "execute_result"
    },
    {
     "data": {
      "image/png": "[encoded data removed]",
      "text/plain": [
       "<matplotlib.figure.Figure at 0x14638240>"
      ]
     },
     "metadata": {},
     "output_type": "display_data"
    }
   ],
   "source": [
    "sig = np.array(sig)\n",
    "psig2 = sig.flatten()\n",
    "plt.plot(psig2) "
   ]
  },
  {
   "cell_type": "code",
   "execution_count": 23,
   "metadata": {
    "collapsed": false,
    "scrolled": true
   },
   "outputs": [
    {
     "name": "stderr",
     "output_type": "stream",
     "text": [
      "D:\\Anaconda\\lib\\site-packages\\ipykernel\\__main__.py:187: RuntimeWarning: overflow encountered in long_scalars\n",
      "D:\\Anaconda\\lib\\site-packages\\ipykernel\\__main__.py:186: RuntimeWarning: overflow encountered in long_scalars\n"
     ]
    },
    {
     "data": {
      "image/png": "[encoded data removed]",
      "text/plain": [
       "<matplotlib.figure.Figure at 0x14690940>"
      ]
     },
     "metadata": {},
     "output_type": "display_data"
    }
   ],
   "source": [
    "fs = 48000\n",
    "#sig = tmp\n",
    "\n",
    "# your code here:\n",
    "fs = 48000\n",
    "start = 56000\n",
    "issig = nc_afsk1200Demod(psig2, fs, f1 =fc-fd, f2 = fc+fd, baud=baud)\n",
    "plt.plot(issig[start:start+8000])\n",
    "\n",
    "bindex = PLL(issig, fs=fs, baud = baud)\n",
    "\n",
    "locs = np.sign(issig)[bindex]\n",
    "e = bitarray.bitarray([True if x == 1 else False for x in locs])\n",
    "NRZ = NRZI2NRZ(e)\n",
    "packets = findPackets(NRZ)\n",
    "\n",
    "kks = nc_mafsk1200Demod(psig2, baud=baud)#, fc = 2700, fd = 1000)\n",
    "plloc = mafsk2crossings(kks)\n",
    "bindex2 = mPLL(plloc, baud=baud)\n",
    "locs2 = mafsk2barr(kks, indii = bindex2) \n",
    "e2 = bitarray.bitarray([True if x == 1 else False for x in locs2])\n",
    "NRZ2 = NRZI2NRZ(e2)\n",
    "packets2 = findPackets(NRZ2)"
   ]
  },
  {
   "cell_type": "code",
   "execution_count": 24,
   "metadata": {
    "collapsed": false
   },
   "outputs": [
    {
     "name": "stdout",
     "output_type": "stream",
     "text": [
      "[bitarray('0111111001000000000000000000000000000000000000000000000000000000000000000000000000000000000000000000000000000000000000000000000000000000000000000000000000000000000000000000000000000000000000000000000000000000000000000000000000000000000000000000000000000000000000000000000000000000000000000000000000000000000000000000000000000000000000000000000000000000000000110000000000000011000000000000000000110000000000000000001111000011000000000000000000000000001111000011110000000000000000000000000000000000001111000000000000000000001111000000000000000000111100000000000000000000000000000000001100000000000000000000000000000000000000000000000000000000001111000000000000000000000000000000000000000000000000000000000000000000000000110000000000000000000000110000110000000000000000000000000011110000000000000000000000000000000000000000000000000000000000000000000000000000000000000000000000000000000000000000000000000000000000000000000011110000000000000000000000000000000000000000000000000000000000000000000000000000000000000000001111110'), bitarray('01111110000111100000000000000000000000000000000000000000000000000000000000000000000000000000000000000000000000000000000000000000000000000000000000000000000000000000000000000000000000000000000000000000000000000000000000000000000000000000000000000000000000000000000000000000000000000000000000000000000000000000000000011000000000000000000000000000000001111110'), bitarray('0111111010100000000000000000000000000000000000000000000000000000000000000000000000000000000000000000000000000000000000000000000000000000000000000000000000000000000000000000000000000000000000000000000000000000000000000000000000000000000000000000000000000000000000000000000000000000000000000000000000000000000000000000000000000000000000000000000000000000000000011000000000000000000000000000000000000000000000000000000000000000000000000001111000000000000000000000000000000000011000000000000000000000011110000000000000000000011110000000000000000001111000000000000000000000000000000000011000000000000000000000000000000000011000000000000000000000011110000000000000000000000000000000000000000000000000000000000000000000000001100000000000000000000001100001100000000000000000000000000111100000000000000000000000000000000000000000000000000000000000000000000000000111100000000000000000000000000001111110'), bitarray('011111100000000000000000000001100000000000000000000000000000000000000000000110000000000000000000000000000000000000000000000000000000000000000000000000000000000000000000000000000000000001111000011000000000000000000000011110000000000000000000000000000000000000000000000000000000000000000000000000000000000000000000000001100000000000000000000000000000000001111110'), bitarray('01111110000000000000000001100000000000000000000000000000000000000000000000000000000000000000000110000000000000000000000000000000000000000000000000000000000000011000000000000000000000000000000000000000000000000000000000000000000000000000000000000000000000000000000000000000000000000000000000000000000000000000000000000000000000000000000000000000000000000000000000000000000000000000000000000000000000000000000000000000000000000000000000000000000000000001111110'), bitarray('0111111001000000000000000000000000000000000000000000000000000000000000000000000000000000000000000000000000000000000000000000000000000000000000000000000000000000000000000000000000000000000000000000000000000000000000000000000000000000000000000000000000000000000000000000000000000000000000000000000000000000000000000000000000000000000000000000000000000000000000110000000000000000000000000000000000000000000000000000000000000000000000000011110000000000000000000000000000000000110000000000000000000000000000000000000000000000111100000000000000000011110000000000000000000000000000000000110000000000000000000000000000000000110000000000000000000000111100000000000000000000000000000000000000000000000000000000000000000000000011000000000000000000000011000011000000000000000000000000001111000000000000000000000000000000000000000000000000000000000000000000110000000000000000000000000011000011000000000000000000000000000000001111000000000000000000001111000000000000000000000011000000000000000000000000000000000000000000000000000011110000000000000000000000110000000000001111110'), bitarray('01111110000000000000000000000000000000000000011000000000000000000000000000000000000000000110000000000000000001100000000000000000000000000000000000000000000000000110000000000000000110000000000000000000000000000000000000000000000000000000000000000000000000000000000000000000000000000000000000000000000000000000000000000000000000000000000000000000000000000000000000000000000000000000000000000000000000000000000000000000000000000000000000000000000000000000000000000000000000000000000000000000000000000000000000000000001101111110'), bitarray('01111110010000010000010101100001010000010001100010000010000000000110100101011001001101100010000101101001001011010000000001110100110010010000100101001001001001100000001001000110011010101100100100010001001100001010011000000010110001101010000000001110101111001000110001001100110011000010110010101100011010101110110000011100100111000000110010100010111010101111110'), bitarray('0111111001000001000001010110000101000001000110001000001000000000011010010101100100110110001000010110100100101101000000000111010011001001000010010101000101000110000000100100011001101010110010010001000100101001001001100000001011000110101000000000111011011100110010101011001011001010111000100010101010100010000001000000010000000100001111000000001000101100000011000001110010101010100110100110101001101100000111000110101010001010000001000000101010010010011100101110001000001010100010100110101011100010010010100101001101111110'), bitarray('01111110010000010000010101100001010000010001100010000010000000000110100101011001001101100010000101101001001011010000000001110100110010010000100101010001001001100000001001000110011010101100100100010001001010010010011000000010110001101010000000001110111110100001001100001011001010110110011010000010010010101000011100000010000000010010001010000011011010110101001100010111000000100011101101010111010110110010001101010011001001110000001001100110011101000111101010111001001111110')]\n"
     ]
    }
   ],
   "source": [
    "print packets2"
   ]
  },
  {
   "cell_type": "code",
   "execution_count": 25,
   "metadata": {
    "collapsed": false
   },
   "outputs": [
    {
     "name": "stdout",
     "output_type": "stream",
     "text": [
      "('1) |DEST:APCAL  |SRC:KM6BKZ |DIGI:WIDE1 1WIDE2 1 |', ':1234567890', '|')\n",
      "failed fcs\n",
      "('2) |DEST:\\x7f\\x7f\\x7f\\x7f\\x7f\\x7f |SRC:\\x7f\\x7f\\x7f\\x7f\\x7f\\x7f |DIGI:\\x7f |', '\\xff\\xff\\xff\\xff\\xff\\xff\\xff\\xff\\xff\\xff\\xff\\xff\\xff\\xff\\xff\\xff\\xff\\xff\\xff\\xff\\xff\\xff\\xff\\xff\\xff\\xff\\x01', '|')\n",
      "('3) |DEST:APCAL  |SRC:KM6BKZ |DIGI:WIDE1 1WIDE2 1 |', ':SMSGTE   :@4085966861 PINGPING', '|')\n",
      "failed fcs\n",
      "('4) |DEST:\\x7f\\x7f\\x7f\\x7f\\x7f\\x7f |SRC:\\x7f\\x7f\\x7f\\x7f\\x7f\\x7f |DIGI:\\x7f |', '\\xff\\xff\\xff\\xff\\xff\\xff\\xff\\xff\\xff\\xff\\xff\\xff\\xff\\xff\\xff\\xff\\xff\\xff\\xff\\xff\\xff\\xff\\xff\\xff\\xff\\x03', '|')\n",
      "('5) |DEST:APCAL  |SRC:KM6BKZ |DIGI:WIDE1 1WIDE2 1 |', '>This is packet number 3', '|')\n",
      "failed fcs\n",
      "('6) |DEST:\\x7f\\x7f\\x7f\\x7f\\x7f\\x7f |SRC:\\x7f?flng |DIGI:\\x1d\\x1e |', '\\xefq%>\\xf3\\x92\\x02\\x00', '|')\n",
      "failed fcs\n",
      "('7) |DEST:\\x7f\\x7f\\x7f\\x7f\\x7f\\x7f |SRC:\\x7f\\x7f\\x7f\\x7f\\x7f\\x7f |DIGI:\\x7f |', '\\xff\\xff\\xff\\xff\\xff\\xff\\xff\\xff\\xff\\xff\\xff\\xff\\xff\\xff\\xff\\xff\\xff\\xff\\xff\\xff\\xff\\xff\\xff\\xff\\xff\\xff\\xff\\xff\\xff\\xff\\xff\\xff\\xff\\xff\\x03', '|')\n",
      "failed fcs\n",
      "('8) |DEST:\\x7f\\x7f\\x7f\\x7f\\x7f\\x7f |SRC:\\x7f?MY]O |DIGI:: |', '\\x91\\xdf\\xe3J|\\xe6%`\\xb0\\x9c\\xb7\\xa7{9\\xb0\\x99\\x01', '|')\n",
      "failed fcs\n",
      "('9) |DEST:\\x7f\\x7f\\x7f\\x7f\\x7f\\x7f |SRC:\\x7f\\x7f\\x7f\\x7f\\x7f\\x7f |DIGI:\\x7f |', '\\xff\\xff\\xff\\xff\\xff\\xff\\xff\\xff\\xff\\xff\\xff\\xff\\xff\\xff\\xff\\xff\\xff\\xff\\xff\\xff\\xff\\xff\\xff\\xff\\xff\\xff\\xff\\xff\\xff\\xff\\xff\\xff\\xff\\xbc\\x00', '|')\n",
      "failed fcs\n",
      "('10) |DEST:\\x7f\\x7f\\x7f\\x7f\\x7f\\x7f |SRC:\\x7f?flng |DIGI:\\x1d\\x1e |', '\\xefq%>\\xf3\\xba8\\xb8\\xb5\\xdb\\x8b\\t\\xa8\\x15\\x02', '|')\n",
      "failed fcs\n",
      "('1AA) |DEST:\\x01\\x00\\x00\\x00\\x00\\x00 |SRC:\\x00\\x00\\x00\\x00\\x00\\x00 |DIGI:\\x00\\x00\\x00\\x00\\x00\\x00\\x00\\x00\\x00\\x00\\x00\\x00\\x00\\x00\\x00\\x00\\x00\\x00\\x00\\x00\\x00\\x00\\x00\\x00\\x00\\x00\\x00\\x00\\x00`\\x00`\\x00\\x00\\x06\\x00`a |', '\\x00<<\\x00\\x00\\x00\\x00<\\x00\\x00<\\x00\\x00\\x0f\\x00\\x00\\x00\\xc0\\x00\\x00\\x00\\x00\\x00\\x00\\x00<\\x00\\x00\\x00\\x00\\x00\\x00\\x00\\x00\\xc0\\x00\\x00\\xc00\\x00\\x00\\x00\\x0f\\x00\\x00\\x00\\x00\\x00\\x00\\x00\\x00\\x00\\x00\\x00\\x00\\x00\\x00\\x00\\x00\\x00\\x0f\\x00\\x00\\x00\\x00\\x00\\x00\\x00\\x00\\x00', '|')\n",
      "failed fcs\n",
      "('2AA) |DEST:<\\x00\\x00\\x00\\x00\\x00 |SRC:\\x00\\x00\\x00\\x00\\x00\\x00 |DIGI: |', '\\x00\\x00\\x00\\x00\\x00\\x00\\x00\\x00\\x00\\x00\\x00\\x00\\x00\\x00\\x00\\x00\\x00\\x00\\x00\\x00\\x00\\x00\\x18\\x00\\x00', '|')\n",
      "failed fcs\n",
      "('3AA) |DEST:\\x02\\x00\\x00\\x00\\x00\\x00 |SRC:\\x00\\x00\\x00\\x00\\x00\\x00 |DIGI:\\x00\\x00\\x00\\x00\\x00\\x00\\x00\\x00\\x00\\x00\\x00\\x00\\x00\\x00\\x00\\x00\\x00\\x00\\x00\\x00\\x00\\x00\\x00\\x00\\x00\\x00\\x00\\x00\\x00@\\x00 |', '\\x00\\x00\\x00\\x00\\x00\\x00x\\x00\\x00\\x00\\x00\\x06\\x00\\x00\\x1e\\x00\\x00\\x1e\\x00\\x80\\x07\\x00\\x00\\x00`\\x00\\x00\\x00\\x00\\x06\\x00\\x00\\x1e\\x00\\x00\\x00\\x00\\x00\\x00\\x00\\x00`\\x00\\x00`\\x18\\x00\\x00\\x80\\x07\\x00\\x00\\x00\\x00\\x00\\x00\\x00\\x00\\xe0\\x01\\x00', '|')\n",
      "failed fcs\n",
      "('4AA) |DEST:\\x00\\x000\\x00\\x00\\x00 |SRC:\\x00\\x0c\\x00\\x00\\x00\\x00 |DIGI: |', '\\x00\\x00\\x00\\x00\\x00\\x00\\x1e\\x06\\x00\\x00\\x1e\\x00\\x00\\x00\\x00\\x00\\x00\\x00\\x00\\x00\\x00\\x00`\\x00\\x00', '|')\n",
      "failed fcs\n",
      "('5AA) |DEST:\\x00\\x00\\x03\\x00\\x00\\x00 |SRC:\\x00\\x00\\x00@\\x00\\x00 |DIGI:\\x00\\x00\\x00\\x00@\\x00 |', '\\x00\\x00\\x00\\x00\\x00\\x00\\x00\\x00\\x00\\x00\\x00\\x00\\x00\\x00\\x00\\x00\\x00\\x00\\x00\\x00\\x00\\x00\\x00\\x00\\x00\\x00\\x00\\x00\\x00\\x00\\x00\\x00', '|')\n",
      "failed fcs\n",
      "('6AA) |DEST:\\x01\\x00\\x00\\x00\\x00\\x00 |SRC:\\x00\\x00\\x00\\x00\\x00\\x00 |DIGI:\\x00\\x00\\x00\\x00\\x00\\x00\\x00\\x00\\x00\\x00\\x00\\x00\\x00\\x00\\x00\\x00\\x00\\x00\\x00\\x00\\x00\\x00\\x00\\x00\\x00\\x00\\x00\\x00\\x00`\\x00\\x00\\x00\\x00\\x00\\x00\\x00\\x00\\x00\\x1e\\x00\\x00\\x00\\x00\\x01 |', '\\x00\\x00\\x00\\x0f\\x00\\xc0\\x03\\x00\\x00\\x000\\x00\\x00\\x00\\x00\\x03\\x00\\x00\\x0f\\x00\\x00\\x00\\x00\\x00\\x00\\x00\\x000\\x00\\x000\\x0c\\x00\\x00\\xc0\\x03\\x00\\x00\\x00\\x00\\x00\\x00\\x000\\x00\\x00\\x00\\xc3\\x00\\x00\\x00\\x00\\x0f\\x00\\x00\\x0f\\x00\\x00\\x0c\\x00\\x00\\x00\\x00\\x00\\x00\\x0f\\x00\\x00', '|')\n",
      "failed fcs\n",
      "('7AA) |DEST:\\x00\\x00\\x00\\x000\\x00 |SRC:\\x00\\x00\\x00\\x03\\x000 |DIGI: |', '\\x00\\x00\\x00\\x06\\x00\\x18\\x00\\x00\\x00\\x00\\x00\\x00\\x00\\x00\\x00\\x00\\x00\\x00\\x00\\x00\\x00\\x00\\x00\\x00\\x00\\x00\\x00\\x00\\x00\\x00\\x00\\x00\\x00\\x00\\x00\\x00\\x00\\x00\\x00\\x00\\x00\\x00\\x00\\x00\\x00\\x00', '|')\n",
      "failed fcs\n",
      "('8AA) |DEST:APCA\\x0c  |SRC:KM6BKZ |DIGI:\\x17I |', 'd@bV\\x93\\x88\\x0ce@c\\x05p=12345V7890', '|')\n",
      "failed fcs\n",
      "('9AA) |DEST:APCA\\x0c  |SRC:KM6BKZ |DIGI:\\x17I |', 'b@bV\\x93\\x88\\x94d@c\\x05p;SMSGTE   <@408UYV68VQ PINGPQVG', '|')\n",
      "failed fcs\n",
      "('10AA) |DEST:APCA\\x0c  |SRC:KM6BKZ |DIGI:\\x17I |', 'd@bV\\x93\\x88\\x94d@c\\x05p?dhj\\xb3 \\xa9p @\\xa2`ket number 3\\x17', '|')\n"
     ]
    }
   ],
   "source": [
    "npack = 0\n",
    "x = 0\n",
    "for pkt in packets:\n",
    "        if len(pkt) > 200: \n",
    "            ax = decodeAX25(pkt)\n",
    "            if ax.info != 'bad packet':\n",
    "                #x = ax.info\n",
    "                #break\n",
    "                npack = npack+1\n",
    "                print(str(npack)+\") |DEST:\"+ax.destination[:-1]+\" |SRC:\"+ax.source + \" |DIGI:\"+ax.digipeaters+\" |\",ax.info,\"|\")\n",
    "npack = 0\n",
    "x = 0\n",
    "for pkt in packets2:\n",
    "        if len(pkt) > 200: \n",
    "            ax = decodeAX25(pkt)\n",
    "            if ax.info != 'bad packet':\n",
    "                #x = ax.info\n",
    "                #break\n",
    "                npack = npack+1\n",
    "                print(str(npack)+\"AA) |DEST:\"+ax.destination[:-1]+\" |SRC:\"+ax.source + \" |DIGI:\"+ax.digipeaters+\" |\",ax.info,\"|\")\n"
   ]
  },
  {
   "cell_type": "code",
   "execution_count": 26,
   "metadata": {
    "collapsed": false
   },
   "outputs": [
    {
     "name": "stdout",
     "output_type": "stream",
     "text": [
      "('1) |DEST:APCAL  |SRC:KM6BKZ |DIGI:WIDE1 1WIDE2 1 |', '>This is packet number 3', '|')\n"
     ]
    },
    {
     "name": "stderr",
     "output_type": "stream",
     "text": [
      "D:\\Anaconda\\lib\\site-packages\\ipykernel\\__main__.py:42: DeprecationWarning: using a non-integer number instead of an integer will result in an error in the future\n",
      "D:\\Anaconda\\lib\\site-packages\\ipykernel\\__main__.py:187: RuntimeWarning: overflow encountered in long_scalars\n"
     ]
    },
    {
     "data": {
      "image/png": "[encoded data removed]",
      "text/plain": [
       "<matplotlib.figure.Figure at 0x1497b898>"
      ]
     },
     "metadata": {},
     "output_type": "display_data"
    }
   ],
   "source": [
    "p3 = afsk1200(sig3, baud = 2400)\n",
    "\n",
    "issig = nc_afsk1200Demod(p3, fs,baud=2400)\n",
    "#issig = [-1 if x < 0 else 1 for x in (issig-.03)]\n",
    "plt.plot(issig[start:start+8000])\n",
    "\n",
    "bindex = PLL(issig, fs=fs, baud = 2400)\n",
    "\n",
    "locs = np.sign(issig)[bindex]\n",
    "e = bitarray.bitarray([True if x == 1 else False for x in locs])\n",
    "NRZ = NRZI2NRZ(e)\n",
    "packets = findPackets(NRZ)\n",
    "npack = 0\n",
    "x = 0\n",
    "for pkt in packets:\n",
    "        if len(pkt) > 200: \n",
    "            ax = decodeAX25(pkt)\n",
    "            if ax.info != 'bad packet':\n",
    "                #x = ax.info\n",
    "                #break\n",
    "                npack = npack+1\n",
    "                print(str(npack)+\") |DEST:\"+ax.destination[:-1]+\" |SRC:\"+ax.source + \" |DIGI:\"+ax.digipeaters+\" |\",ax.info,\"|\")"
   ]
  },
  {
   "cell_type": "code",
   "execution_count": 27,
   "metadata": {
    "collapsed": false
   },
   "outputs": [
    {
     "name": "stdout",
     "output_type": "stream",
     "text": [
      "bitarray('00000001000000010000000100000001000000010000000100000001000000010000000100000001000000010000000100000001000000010000000100000001000000010000000100000001000000010000000100101011010100110001010011010100101110110101011010101110111001001100010010001110100101001110010010011100101011101111001100100100101101001100101100101110101010010010111011110011001001001011010011001011011011101010100111010001110101010101111100000010101100110101100011011000111011110101011011011000111011110101011010101111001010001110100011100111001101110100111101010110100001110011000011000111011010001100100010010000101010010001000100001101000001100111111101111111011111110111111101111111011111110111111101111111011111110111111101111111011111110111111101111111011111110111111101111111011111110111111101111111011111110')\n",
      "bitarray('00000001000000010000000100000001000000010000000100000001000000010000000100000001000000010000000100000001000000010000000100000001000000010000000100000001000000010000000100101011010100110001010011010100101110110101011010101110111001001100010010001110100101001110010010011100101011101111001100100100101101001100101100101110101010010010111011110011001001001011010011001011011011101010100111010001110101010101111100000010101100110101100011011000111011110101011011011000111011110101011010101111001010001110100011100111001101110100111101010110100001110011000011000111011010001100100010010000101010010001000100001101000001100111111101111111011111110111111101111111011111110111111101111111011111110111111101111111011111110111111101111111011111110111111101111111011111110111111101111111011111110')\n"
     ]
    },
    {
     "data": {
      "image/png": "[encoded data removed]",
      "text/plain": [
       "<matplotlib.figure.Figure at 0x145c2ef0>"
      ]
     },
     "metadata": {},
     "output_type": "display_data"
    }
   ],
   "source": [
    "#plt.plot([-1 if x < 0 else 1 for x in (issig-.09)][:1000])\n",
    "figure()\n",
    "plt.plot((issig-0)[:1000])\n",
    "print sig3\n",
    "print e"
   ]
  },
  {
   "cell_type": "code",
   "execution_count": null,
   "metadata": {
    "collapsed": false
   },
   "outputs": [],
   "source": [
    "sig3\n",
    "factor = 2\n",
    "s3 = mafsk1200(sig2, baud = 1200*factor)\n",
    "kks = nc_mafsk1200Demod(s3, baud = 1200*factor)\n",
    "print padded3\n",
    "plloc = mafsk2crossings(kks)\n",
    "bindex2 = mPLL(plloc,a=.69, baud=1200*factor)\n",
    "locs2 = mafsk2barr(kks, indii = bindex2) \n",
    "#locs2 = mafsk2barr(kks, centers=10, spacing=20) \n",
    "e2 = bitarray.bitarray([True if x == 1 else False for x in locs2])\n",
    "print len(e2)\n",
    "print len(sig3)\n",
    "print len(plloc)\n",
    "\"\"\"\n",
    "for i in range(len(sig3)):\n",
    "    try:\n",
    "        if sig3[i] != e2[i]:\n",
    "            print i\n",
    "    except:\n",
    "        print 33, 'a'\n",
    "\"\"\"\n",
    "NRZ2 = NRZI2NRZ(e2)\n",
    "packets2 = findPackets(NRZ2)\n",
    "print packets2\n",
    "npack = 0\n",
    "x = 0\n",
    "for pkt in packets2:\n",
    "        if len(pkt) > 200: \n",
    "            ax = decodeAX25(pkt)\n",
    "            if ax.info != 'bad packet':\n",
    "                #x = ax.info\n",
    "                #break\n",
    "                npack = npack+1\n",
    "                print(str(npack)+\"AA) |DEST:\"+ax.destination[:-1]+\" |SRC:\"+ax.source + \" |DIGI:\"+ax.digipeaters+\" |\",ax.info,\"|\")\n"
   ]
  },
  {
   "cell_type": "code",
   "execution_count": null,
   "metadata": {
    "collapsed": false
   },
   "outputs": [],
   "source": [
    "print np.where(plloc == 1)\n",
    "print plloc"
   ]
  },
  {
   "cell_type": "code",
   "execution_count": null,
   "metadata": {
    "collapsed": false
   },
   "outputs": [],
   "source": [
    "print chr(ord('\\x57'))\n",
    "'W'.encode('hex')"
   ]
  },
  {
   "cell_type": "code",
   "execution_count": null,
   "metadata": {
    "collapsed": false
   },
   "outputs": [],
   "source": [
    "offs = len(kks[0])-400\n",
    "lim = 500\n",
    "ymax = .7\n",
    "plt.axis([0.0,lim,-ymax,ymax])\n",
    "plt.plot(np.abs(kks[0])[offs:offs+lim])\n",
    "figure()\n",
    "plt.axis([0.0,lim,-ymax,ymax])\n",
    "\n",
    "plt.plot(np.abs(kks[1])[offs:offs+lim])\n",
    "figure()\n",
    "plt.axis([0.0,lim,-ymax,ymax])\n",
    "\n",
    "plt.plot(np.abs(kks[2])[offs:offs+lim])\n",
    "figure()\n",
    "plt.axis([0.0,lim,-ymax,ymax])\n",
    "\n",
    "plt.plot(np.abs(kks[3])[offs:offs+lim])\n",
    "figure()\n",
    "plt.axis([0.0,lim,-ymax,ymax])\n",
    "\n",
    "plt.plot((kks[3]-kks[2])[offs:offs+lim])\n",
    "figure()\n",
    "plt.axis([0.0,lim,-.5,.5])\n",
    "\n",
    "plt.plot((kks[0]-kks[1])[offs:offs+lim])\n",
    "figure()\n",
    "#plt.plot((kks[0]-kks[2])[:50])\n",
    "print sig3[offs//20:offs//20+lim//20]\n",
    "print sig3"
   ]
  },
  {
   "cell_type": "code",
   "execution_count": null,
   "metadata": {
    "collapsed": false
   },
   "outputs": [],
   "source": [
    "gg = kks\n",
    "x = np.vstack((np.abs(gg[0]), np.abs(gg[1]), np.abs(gg[2]), np.abs(gg[3])))\n",
    "o = np.argmax(x, axis=0)\n",
    "o[:80]\n",
    "np.where(o == 0)"
   ]
  },
  {
   "cell_type": "code",
   "execution_count": null,
   "metadata": {
    "collapsed": false
   },
   "outputs": [],
   "source": [
    "plloc = mafsk2crossings(kks)\n",
    "plloc\n"
   ]
  },
  {
   "cell_type": "code",
   "execution_count": null,
   "metadata": {
    "collapsed": false
   },
   "outputs": [],
   "source": [
    "lim = 50\n",
    "np.where((np.abs(kks[0])-np.abs(kks[1])) == 0)\n",
    "plt.axis([0.0,lim,-.5,.5])\n",
    "plt.plot((np.abs(kks[0])-np.abs(kks[1]))[1700:1750])\n",
    "figure()\n",
    "plt.axis([0.0,lim,-.5,.5])\n",
    "\n",
    "plt.plot((np.abs(kks[3])-np.abs(kks[2]))[1700:1750])\n",
    "figure()\n",
    "plt.axis([0.0,lim,-.5,.5])\n",
    "\n",
    "#plt.plot((np.abs(kks[3])-np.abs(kks[2]))[1700:1750])\n",
    "w = np.amax(np.vstack((np.abs((np.abs(kks[3])-np.abs(kks[2]))), np.abs((np.abs(kks[0])-np.abs(kks[1]))))), axis = 0)\n",
    "#figure()\n",
    "plt.plot(w[1700:1750])\n",
    "w[1700:1750]"
   ]
  },
  {
   "cell_type": "code",
   "execution_count": null,
   "metadata": {
    "collapsed": true
   },
   "outputs": [],
   "source": []
  }
 ],
 "metadata": {
  "kernelspec": {
   "display_name": "Python 2",
   "language": "python",
   "name": "python2"
  },
  "language_info": {
   "codemirror_mode": {
    "name": "ipython",
    "version": 2
   },
   "file_extension": ".py",
   "mimetype": "text/x-python",
   "name": "python",
   "nbconvert_exporter": "python",
   "pygments_lexer": "ipython2",
   "version": "2.7.11"
  }
 },
 "nbformat": 4,
 "nbformat_minor": 0
}
